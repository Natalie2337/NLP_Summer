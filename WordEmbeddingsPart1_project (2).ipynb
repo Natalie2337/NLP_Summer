{
  "cells": [
    {
      "cell_type": "markdown",
      "id": "161890c0",
      "metadata": {
        "id": "161890c0"
      },
      "source": [
        "**Copyright: © NexStream Technical Education, LLC**.  \n",
        "All rights reserved"
      ]
    },
    {
      "cell_type": "markdown",
      "source": [],
      "metadata": {
        "id": "yUwtf1bmFEge"
      },
      "id": "yUwtf1bmFEge"
    },
    {
      "cell_type": "markdown",
      "id": "ede3a19f",
      "metadata": {
        "id": "ede3a19f"
      },
      "source": [
        "# Word Embeddings\n",
        "\n",
        "In this assignment, you will implement Python functions that can be used in a sentiment analyzer to demonstrate the following word embedding techniques:   \n",
        "- Term Frequency - Inverse Document Frequency (TF-IDF)\n",
        "- Word2Vec\n",
        "- GloVe\n",
        "\n",
        "\n"
      ]
    },
    {
      "cell_type": "markdown",
      "id": "fb7af637",
      "metadata": {
        "id": "fb7af637"
      },
      "source": [
        "##**Environment Setup and Version Check:**    \n",
        "\n",
        "1.  Install gensim. No coding required - just execute the cell.   \n",
        "    **NOTE** - you will install a version of gensim that will require a restart of the environment in order to take effect.  \n",
        "    The code will automatically restart this.  If your notebook displays a runtime error or \"Your session crashed for an unknown reason\" message, just go ahead and move on and execute the next cell.\n",
        "2.  Mount your Google Drive and set the path to the folder that contains your code and the supplemental files.  \n",
        "    - You will need to change the path set in the '%cd' command in this cell.\n",
        "3.  Set up the environment.  No coding is required in the cells - just run the cells to set up your environment.\n",
        "    - Verify Python environment and displays version information\n",
        "    - Installs required Python packages\n",
        "    - Downloads nltk resources\n",
        "    - Imports necessary Python libraries\n",
        "\n"
      ]
    },
    {
      "cell_type": "code",
      "source": [
        "# need to run in the google colab"
      ],
      "metadata": {
        "id": "d-TKquGu_ERH"
      },
      "id": "d-TKquGu_ERH",
      "execution_count": null,
      "outputs": []
    },
    {
      "cell_type": "code",
      "source": [
        "!wget -nc http://snap.stanford.edu/data/amazon/productGraph/categoryFiles/reviews_Electronics_5.json.gz"
      ],
      "metadata": {
        "colab": {
          "base_uri": "https://localhost:8080/"
        },
        "id": "3XmYK9mtDIlW",
        "outputId": "e09d1301-1b69-4e3e-d7b3-39b580317bbb"
      },
      "id": "3XmYK9mtDIlW",
      "execution_count": null,
      "outputs": [
        {
          "output_type": "stream",
          "name": "stdout",
          "text": [
            "--2025-08-21 14:33:39--  http://snap.stanford.edu/data/amazon/productGraph/categoryFiles/reviews_Electronics_5.json.gz\n",
            "Resolving snap.stanford.edu (snap.stanford.edu)... 171.64.75.80\n",
            "Connecting to snap.stanford.edu (snap.stanford.edu)|171.64.75.80|:80... connected.\n",
            "HTTP request sent, awaiting response... 200 OK\n",
            "Length: 495854086 (473M) [application/x-gzip]\n",
            "Saving to: ‘reviews_Electronics_5.json.gz’\n",
            "\n",
            "reviews_Electronics 100%[===================>] 472.88M  17.5MB/s    in 33s     \n",
            "\n",
            "2025-08-21 14:34:13 (14.1 MB/s) - ‘reviews_Electronics_5.json.gz’ saved [495854086/495854086]\n",
            "\n"
          ]
        }
      ]
    },
    {
      "cell_type": "code",
      "execution_count": null,
      "id": "2bd1b349",
      "metadata": {
        "id": "2bd1b349",
        "colab": {
          "base_uri": "https://localhost:8080/"
        },
        "outputId": "b3889799-d4db-47db-bfc8-9eb4aec5ebe5"
      },
      "outputs": [
        {
          "output_type": "stream",
          "name": "stdout",
          "text": [
            "\u001b[2K     \u001b[90m━━━━━━━━━━━━━━━━━━━━━━━━━━━━━━━━━━━━━━━━\u001b[0m \u001b[32m61.0/61.0 kB\u001b[0m \u001b[31m3.9 MB/s\u001b[0m eta \u001b[36m0:00:00\u001b[0m\n",
            "\u001b[2K     \u001b[90m━━━━━━━━━━━━━━━━━━━━━━━━━━━━━━━━━━━━━━━━\u001b[0m \u001b[32m60.6/60.6 kB\u001b[0m \u001b[31m3.1 MB/s\u001b[0m eta \u001b[36m0:00:00\u001b[0m\n",
            "\u001b[2K   \u001b[90m━━━━━━━━━━━━━━━━━━━━━━━━━━━━━━━━━━━━━━━━\u001b[0m \u001b[32m26.6/26.6 MB\u001b[0m \u001b[31m25.0 MB/s\u001b[0m eta \u001b[36m0:00:00\u001b[0m\n",
            "\u001b[2K   \u001b[90m━━━━━━━━━━━━━━━━━━━━━━━━━━━━━━━━━━━━━━━━\u001b[0m \u001b[32m18.0/18.0 MB\u001b[0m \u001b[31m39.1 MB/s\u001b[0m eta \u001b[36m0:00:00\u001b[0m\n",
            "\u001b[2K   \u001b[90m━━━━━━━━━━━━━━━━━━━━━━━━━━━━━━━━━━━━━━━━\u001b[0m \u001b[32m38.2/38.2 MB\u001b[0m \u001b[31m9.0 MB/s\u001b[0m eta \u001b[36m0:00:00\u001b[0m\n",
            "\u001b[?25h\u001b[31mERROR: pip's dependency resolver does not currently take into account all the packages that are installed. This behaviour is the source of the following dependency conflicts.\n",
            "opencv-python-headless 4.12.0.88 requires numpy<2.3.0,>=2; python_version >= \"3.9\", but you have numpy 1.26.4 which is incompatible.\n",
            "opencv-contrib-python 4.12.0.88 requires numpy<2.3.0,>=2; python_version >= \"3.9\", but you have numpy 1.26.4 which is incompatible.\n",
            "opencv-python 4.12.0.88 requires numpy<2.3.0,>=2; python_version >= \"3.9\", but you have numpy 1.26.4 which is incompatible.\n",
            "thinc 8.3.6 requires numpy<3.0.0,>=2.0.0, but you have numpy 1.26.4 which is incompatible.\n",
            "tsfresh 0.21.0 requires scipy>=1.14.0; python_version >= \"3.10\", but you have scipy 1.13.1 which is incompatible.\u001b[0m\u001b[31m\n",
            "\u001b[0m"
          ]
        }
      ],
      "source": [
        "#Run this cell to install gensim and restart the runtime\n",
        "!pip install gensim --quiet\n",
        "import os\n",
        "os.kill(os.getpid(), 9)  # Forces a runtime restart"
      ]
    },
    {
      "cell_type": "code",
      "execution_count": 1,
      "id": "afabaf25",
      "metadata": {
        "id": "afabaf25",
        "colab": {
          "base_uri": "https://localhost:8080/"
        },
        "outputId": "15824df0-670a-403b-a03c-8eb3121c55b6"
      },
      "outputs": [
        {
          "output_type": "stream",
          "name": "stdout",
          "text": [
            "Mounted at /content/drive\n",
            "/content/drive/MyDrive/Colab Notebooks\n"
          ]
        }
      ],
      "source": [
        "#Mount the Google drive\n",
        "#Change the working directory to the folder that contains sample_glove.txt (10-d vectors for 10 words)\n",
        "#   (you will be provided sample_glove.txt in the assignment documents).\n",
        "\n",
        "from google.colab import drive\n",
        "drive.mount('/content/drive')\n",
        "\n",
        "#cd to the working directory\n",
        "%cd /content/drive/MyDrive/Colab\\ Notebooks/"
      ]
    },
    {
      "cell_type": "code",
      "execution_count": 2,
      "id": "b97a298c",
      "metadata": {
        "id": "b97a298c",
        "colab": {
          "base_uri": "https://localhost:8080/"
        },
        "outputId": "ea032d56-5dbd-43d3-e7b0-d27a333e6a3e"
      },
      "outputs": [
        {
          "output_type": "stream",
          "name": "stdout",
          "text": [
            "Python version: 3.12.11 (main, Jun  4 2025, 08:56:18) [GCC 11.4.0]\n",
            "NLTK version: 3.9.1\n",
            "\n",
            "Downloading required NLTK resources...\n",
            "Downloading punkt...\n"
          ]
        },
        {
          "output_type": "stream",
          "name": "stderr",
          "text": [
            "[nltk_data] Downloading package punkt to /root/nltk_data...\n",
            "[nltk_data]   Unzipping tokenizers/punkt.zip.\n"
          ]
        },
        {
          "output_type": "stream",
          "name": "stdout",
          "text": [
            "Downloading punkt_tab...\n"
          ]
        },
        {
          "output_type": "stream",
          "name": "stderr",
          "text": [
            "[nltk_data] Downloading package punkt_tab to /root/nltk_data...\n",
            "[nltk_data]   Unzipping tokenizers/punkt_tab.zip.\n"
          ]
        },
        {
          "output_type": "stream",
          "name": "stdout",
          "text": [
            "Downloading averaged_perceptron_tagger...\n",
            "Downloading averaged_perceptron_tagger_eng...\n"
          ]
        },
        {
          "output_type": "stream",
          "name": "stderr",
          "text": [
            "[nltk_data] Downloading package averaged_perceptron_tagger to\n",
            "[nltk_data]     /root/nltk_data...\n",
            "[nltk_data]   Unzipping taggers/averaged_perceptron_tagger.zip.\n",
            "[nltk_data] Downloading package averaged_perceptron_tagger_eng to\n",
            "[nltk_data]     /root/nltk_data...\n",
            "[nltk_data]   Unzipping taggers/averaged_perceptron_tagger_eng.zip.\n",
            "[nltk_data] Downloading package wordnet to /root/nltk_data...\n"
          ]
        },
        {
          "output_type": "stream",
          "name": "stdout",
          "text": [
            "Downloading wordnet...\n",
            "Downloading stopwords...\n",
            "Downloading omw-1.4...\n"
          ]
        },
        {
          "output_type": "stream",
          "name": "stderr",
          "text": [
            "[nltk_data] Downloading package stopwords to /root/nltk_data...\n",
            "[nltk_data]   Unzipping corpora/stopwords.zip.\n",
            "[nltk_data] Downloading package omw-1.4 to /root/nltk_data...\n"
          ]
        },
        {
          "output_type": "stream",
          "name": "stdout",
          "text": [
            "\n",
            "Setup complete. Ready to process text.\n"
          ]
        }
      ],
      "source": [
        "#Set up the environment\n",
        "#Do Not change this cell.\n",
        "#No coding is required - just run this cell to set up your environment.\n",
        "\n",
        "import sys\n",
        "print(f\"Python version: {sys.version}\")\n",
        "\n",
        "# Import and setup NLTK\n",
        "import nltk\n",
        "print(f\"NLTK version: {nltk.__version__}\")\n",
        "\n",
        "print(\"\\nDownloading required NLTK resources...\")\n",
        "# Resources specifically needed for Python 3.11 in Colab\n",
        "resources = [\n",
        "    'punkt',\n",
        "    'punkt_tab',\n",
        "    'averaged_perceptron_tagger',\n",
        "    'averaged_perceptron_tagger_eng',  # Specifically needed for Python 3.11\n",
        "    'wordnet',\n",
        "    'stopwords',\n",
        "    'omw-1.4'\n",
        "]\n",
        "\n",
        "for resource in resources:\n",
        "    print(f\"Downloading {resource}...\")\n",
        "    nltk.download(resource)\n",
        "\n",
        "# Import other required libraries\n",
        "import pandas as pd\n",
        "import numpy as np\n",
        "import re\n",
        "from nltk.tokenize import word_tokenize, sent_tokenize\n",
        "from nltk.corpus import stopwords\n",
        "from nltk.stem import PorterStemmer, WordNetLemmatizer\n",
        "from nltk.tag import pos_tag\n",
        "\n",
        "from sklearn.feature_extraction.text import TfidfVectorizer\n",
        "from sklearn.model_selection import train_test_split\n",
        "from sklearn.linear_model import LogisticRegression\n",
        "from sklearn.metrics import classification_report\n",
        "from sklearn.model_selection import cross_val_score\n",
        "\n",
        "from gensim.models import Word2Vec\n",
        "import gensim.downloader as api\n",
        "import pandas as pd\n",
        "import numpy as np\n",
        "import re\n",
        "import matplotlib.pyplot as plt\n",
        "import seaborn as sns\n",
        "\n",
        "print(\"\\nSetup complete. Ready to process text.\")"
      ]
    },
    {
      "cell_type": "markdown",
      "id": "966dc517",
      "metadata": {
        "id": "966dc517"
      },
      "source": [
        "##**Text Preprocessing Functions**  \n",
        "Use your previous assignment to preprocess the product reviews.  For this assignment you will preprocess the text input as follows:\n",
        "- Convert to lowercase\n",
        "- Tokenize\n",
        "- Remove Stopwords\n",
        "- Lemmatize\n",
        "\n",
        "NOTE - you must use the preprocessing functions from your previous assignment - validation of the processing in this assignment will assume your previous code has passed all the embedded doctests.  \n",
        "To copy your code into this notebook:  \n",
        "- From Colab, you can select the cell from your previous assignment Colab notebook then right-click and select \"Copy cell\".  \n",
        "- In your new Colab notebook, paste the cell (cntl-V or cmd-V) to paste it.\n"
      ]
    },
    {
      "cell_type": "code",
      "execution_count": 3,
      "id": "d0cf68ac",
      "metadata": {
        "id": "d0cf68ac"
      },
      "outputs": [],
      "source": [
        "#Copy your TextPreprocessing code from the previous assignment\n",
        "#You must use your own preprocessing code\n",
        "\n",
        "class TextPreprocessor:\n",
        "  def __init__(self):\n",
        "    self.stemmer = PorterStemmer()\n",
        "    self.lemmatizer = WordNetLemmatizer() # Corrected variable name\n",
        "    self.stop_words = set(stopwords.words('english'))\n",
        "\n",
        "  def normalize_text(self, text):\n",
        "    text = text.lower()\n",
        "    text = re.sub(r'[^a-zA-Z0-9\\s]', ' ', text)\n",
        "    text = re.sub(r'\\s+', ' ', text).strip()\n",
        "    return text\n",
        "\n",
        "  def tokenize_text(self, text):\n",
        "    # This returns a list of lists, one list of tokens per sentence\n",
        "    sentences = sent_tokenize(text)\n",
        "    words = [word_tokenize(sentence) for sentence in sentences]\n",
        "    return words\n",
        "\n",
        "\n",
        "  def pos_tag_text(self, tokens_list_of_lists):\n",
        "    # Flatten the list of lists before pos tagging\n",
        "    flat_tokens = [token for sentence_tokens in tokens_list_of_lists for token in sentence_tokens]\n",
        "    pos_tagged_text = pos_tag(flat_tokens)\n",
        "    return pos_tagged_text\n",
        "\n",
        "  def remove_stopwords(self, tokens):\n",
        "    tokens_without_stopwords = [i for i in tokens if i not in self.stop_words]\n",
        "    return tokens_without_stopwords\n",
        "\n",
        "  def stem_tokens(self, tokens):\n",
        "      stemmed_tokens = [self.stemmer.stem(i) for i in tokens]\n",
        "      return stemmed_tokens\n",
        "\n",
        "  def lemmatize_with_pos(self, tagged_tokens):\n",
        "      lemmatized = []\n",
        "      for token, tag in tagged_tokens:\n",
        "          if tag.startswith('N'):\n",
        "              pos = 'n'\n",
        "          elif tag.startswith('V'):\n",
        "              pos = 'v'\n",
        "          elif tag.startswith('R'):\n",
        "              pos = 'r'\n",
        "          elif tag.startswith('J'):\n",
        "              pos = 'a'\n",
        "          else:\n",
        "              pos = 'n'\n",
        "\n",
        "          lemma = self.lemmatizer.lemmatize(token, pos)\n",
        "          lemmatized.append(lemma)\n",
        "\n",
        "      return lemmatized\n",
        "\n",
        "  def preprocess_text(self, text, use_stemming=False):\n",
        "      results = {\n",
        "          'original': text,\n",
        "          'normalized': None,\n",
        "          'tokenized': None,\n",
        "          'pos_tagged': None,\n",
        "          'no_stopwords': None,\n",
        "          'final': None\n",
        "      }\n",
        "\n",
        "      normalized = self.normalize_text(text)\n",
        "      results['normalized'] = normalized\n",
        "\n",
        "      tokens = self.tokenize_text(normalized) # tokens is a list of lists here\n",
        "      results['tokenized'] = tokens\n",
        "\n",
        "      # Pass the list of lists to pos_tag_text, which will flatten it\n",
        "      tagged = self.pos_tag_text(tokens)\n",
        "      results['pos_tagged'] = tagged\n",
        "\n",
        "      # Need to flatten tokens before removing stopwords\n",
        "      flat_tokens = [token for sentence_tokens in tokens for token in sentence_tokens]\n",
        "      cleaned_tokens = self.remove_stopwords(flat_tokens)\n",
        "      results['no_stopwords'] = cleaned_tokens\n",
        "\n",
        "\n",
        "      if use_stemming:\n",
        "          final_tokens = self.stem_tokens(cleaned_tokens)\n",
        "      else:\n",
        "          # Need to pos tag cleaned_tokens before lemmatizing with pos\n",
        "          tagged_cleaned = self.pos_tag_text([cleaned_tokens]) # pos_tag_text expects list of lists\n",
        "          final_tokens = self.lemmatize_with_pos(tagged_cleaned)\n",
        "\n",
        "      results['final'] = final_tokens\n",
        "\n",
        "      return results\n",
        "\n",
        "  def analyze_pos_distribution(self, texts):\n",
        "      pos_counts = {}\n",
        "\n",
        "      for text in texts:\n",
        "\n",
        "          normalized = self.normalize_text(text)\n",
        "          tokens = self.tokenize_text(normalized)\n",
        "          tagged = self.pos_tag_text(tokens)\n",
        "\n",
        "          for _, tag in tagged:\n",
        "              pos_counts[tag] = pos_counts.get(tag, 0) + 1\n",
        "\n",
        "      return pos_counts"
      ]
    },
    {
      "cell_type": "markdown",
      "id": "23bb802f",
      "metadata": {
        "id": "23bb802f"
      },
      "source": [
        "##**Word Embeddings Class Definition**   \n",
        "\n",
        "The following defines the main Word Embeddings class and all it's method API's.  \n",
        "Follow the instructions in the code cell to complete and test your code.  You will replace all triple underscores (___) with your code.  \n",
        "Please refer to the lecture slides for details on each of the functions/algorithms and hints on the implementation.\n",
        "<br>\n",
        "\n",
        "    class WordEmbeddings:\n",
        "\n",
        "    - def __init__(self):  \n",
        "      #Initializes a new WordEmbeddings instance with a TextPreprocessor for consistent text preprocessing across all embedding methods.\n",
        "      #USE YOUR OWN TextPreprocessor IMPLEMENTATION\n",
        "\n",
        "\n",
        "    - def preprocess_for_features(self, text):\n",
        "      \"\"\"\n",
        "      Preprocess the text:\n",
        "        - Convert to lowercase\n",
        "        - Tokenize\n",
        "        - Remove Stopwords\n",
        "        - Lemmatize\n",
        "      Args:\n",
        "          text (str): Input text\n",
        "      Returns:\n",
        "          str: preprocessed text\n",
        "      \"\"\"\n",
        "\n",
        "    - def create_tfidf_features(self, texts):\n",
        "      \"\"\"\n",
        "      Convert text into numerical features via TF-IDF.\n",
        "      \n",
        "      Args:\n",
        "          texts (list): List of input text documents\n",
        "      Returns:\n",
        "          tuple: (sparse_matrix, TfidfVectorizer)\n",
        "            - sparse_matrix: TF-IDF weighted document-term matrix\n",
        "            - TfidfVectorizer: Fitted vectorizer for transforming new texts\n",
        "      Notes:\n",
        "          - Creates TF-IDF vectorizer fitted to vocabulary\n",
        "          - Transforms texts into weighted sparse matrix\n",
        "          - Features capture statistical word importance\n",
        "      Hints:\n",
        "          - Create a reference to TfidVectorizer\n",
        "          - Fit and transform the input text to generate features\n",
        "          - https://scikit-learn.org/1.5/modules/generated/sklearn.feature_extraction.text.TfidfVectorizer.html\n",
        "      \"\"\"\n",
        "\n",
        "    - def create_word2vec_features(self, texts, vector_size=100):\n",
        "      \"\"\"\n",
        "      Convert texts to Word2Vec averaged document vectors.\n",
        "      \n",
        "      Args:\n",
        "          texts (list): List of input text documents\n",
        "          vector_size (int): Dimensionality of word vectors\n",
        "      Returns:\n",
        "          tuple: (ndarray, Word2Vec)\n",
        "            - ndarray: Document vectors of shape (n_docs, vector_size)\n",
        "            - Word2Vec: Trained Word2Vec model\n",
        "      Notes:\n",
        "          - Trains Word2Vec model with context window of 5\n",
        "          - Averages word vectors to create document vectors\n",
        "          - Uses zero vectors for unknown words\n",
        "      Hints:\n",
        "          https://radimrehurek.com/gensim/models/word2vec.html\n",
        "          1. Process texts into tokens:\n",
        "          2. Create and train Word2Vec model:\n",
        "              model = Word2Vec(sentences=processed_texts,\n",
        "                              vector_size=vector_size,\n",
        "                              window=5,\n",
        "                              min_count=1,\n",
        "                              workers=4)\n",
        "          3. Create document vectors by averaging word vectors:\n",
        "          4. Convert to numpy array:\n",
        "      \"\"\"\n",
        "\n",
        "    - def load_glove_vectors(self, path, vector_size=100):\n",
        "      \"\"\"\n",
        "      Load pre-trained GloVe word vectors from file.\n",
        "\n",
        "      Args:\n",
        "          path (str): Path to GloVe vectors file\n",
        "          vector_size (int): Size of word vectors\n",
        "          \n",
        "      Returns:\n",
        "          dict: Mapping of words to their vector representations\n",
        "      Notes:\n",
        "          - Reads vectors with specified dimensionality\n",
        "          - Returns dictionary of {word: vector} mappings\n",
        "          - Handles file not found gracefully\n",
        "      Hints:\n",
        "          1. Create empty dictionary for word vectors\n",
        "          2. Read GloVe file and process each line (handle file not found error)\n",
        "          4. Return the dictionary\n",
        "      \"\"\"\n",
        "\n",
        "    - def create_glove_features(self, texts, embeddings_dict):\n",
        "      \"\"\"\n",
        "      Convert texts to GloVe document vectors.\n",
        "      \n",
        "      Args:\n",
        "          texts (list): List of input text documents\n",
        "          embeddings_dict (dict): GloVe word vector dictionary\n",
        "      Returns:\n",
        "          ndarray: Document vectors created by averaging word vectors\n",
        "      Notes:\n",
        "          - Preprocesses texts for consistency\n",
        "          - Averages GloVe vectors for known words\n",
        "          - Uses zero vectors for unknown words\n",
        "      Hints:\n",
        "          1. Preprocess texts\n",
        "          2. Get vector size from dictionary\n",
        "          3. Create document vectors\n",
        "          4. Convert to numpy array\n",
        "      \"\"\"\n"
      ]
    },
    {
      "cell_type": "code",
      "execution_count": 4,
      "id": "94ee8b7d",
      "metadata": {
        "id": "94ee8b7d"
      },
      "outputs": [],
      "source": [
        "class WordEmbeddings:\n",
        "\n",
        "    def __init__(self):\n",
        "        #Set a reference to the preprocessor (USE YOUR OWN TextPreprocessor IMPLEMENTATION)\n",
        "        self.preprocessor = TextPreprocessor()\n",
        "\n",
        "\n",
        "    def preprocess_for_features(self, text):\n",
        "        \"\"\"\n",
        "        Preprocess the text:\n",
        "          - Convert to lowercase\n",
        "          - Tokenize\n",
        "          - Remove Stopwords\n",
        "          - Lemmatize\n",
        "        Args:\n",
        "            text (str): Input text\n",
        "        Returns:\n",
        "            str: preprocessed text\n",
        "        \"\"\"\n",
        "        #Preprocess the input text\n",
        "        #Hint: call your TextPreprocessor preprocess_text function\n",
        "        processed = self.preprocessor.preprocess_text(text)\n",
        "        return ' '.join(processed['final'])\n",
        "\n",
        "\n",
        "    def create_tfidf_features(self, texts):\n",
        "        \"\"\"\n",
        "        Convert text into numerical features via TF-IDF.\n",
        "        Args:\n",
        "            texts (list): List of input text documents\n",
        "\n",
        "        Returns:\n",
        "            tuple: (sparse_matrix, TfidfVectorizer)\n",
        "              - sparse_matrix: TF-IDF weighted document-term matrix\n",
        "              - TfidfVectorizer: Fitted vectorizer for transforming new texts\n",
        "        \"\"\"\n",
        "        #Initialize TfidVectorizer with preprocessed text (hint: from the preprocess_for_features call)\n",
        "        tfidf = TfidfVectorizer(preprocessor=self.preprocess_for_features)\n",
        "\n",
        "        #Fit and transform the input texts\n",
        "        features = tfidf.fit_transform(texts)\n",
        "\n",
        "        return features, tfidf\n",
        "\n",
        "\n",
        "    def create_word2vec_features(self, texts, vector_size=100):\n",
        "        \"\"\"\n",
        "        Convert texts to Word2Vec averaged document vectors.\n",
        "        Args:\n",
        "            texts (list): List of input text documents\n",
        "            vector_size (int): Dimensionality of word vectors\n",
        "        Returns:\n",
        "            tuple: (ndarray, Word2Vec)\n",
        "              - ndarray: Document vectors of shape (n_docs, vector_size)\n",
        "              - Word2Vec: Trained Word2Vec model\n",
        "        \"\"\"\n",
        "        #Preprocess the input texts. preprocess_for_features returns a string,\n",
        "        #but Word2Vec expects a list of lists of strings (sentences -> words)\n",
        "        processed_texts = [self.preprocessor.preprocess_text(i)['final'] for i in texts]\n",
        "\n",
        "\n",
        "        #Create the model with Word2Vec\n",
        "        #   Set the window size = 5, minimum count = 1, and workers=4\n",
        "        model = Word2Vec(sentences=processed_texts,\n",
        "                         vector_size=vector_size,\n",
        "                         window=5,\n",
        "                         min_count=1,\n",
        "                         workers=4)\n",
        "\n",
        "        #Create a document vectors list and append the word vectors\n",
        "        #Append the mean of the word vectors, otherwise append 0\n",
        "        doc_vectors = []\n",
        "        for text_tokens in processed_texts:\n",
        "            word_vectors = [model.wv[word] for word in text_tokens if word in model.wv]\n",
        "            if word_vectors:\n",
        "                doc_vectors.append(np.mean(word_vectors, axis=0))\n",
        "            else:\n",
        "                doc_vectors.append(np.zeros(vector_size)) # Specify size for zero vector\n",
        "\n",
        "        return np.array(doc_vectors), model\n",
        "\n",
        "\n",
        "    def load_glove_vectors(self, path, vector_size=100):\n",
        "        \"\"\"Load pre-trained GloVe vectors from file.\n",
        "\n",
        "        Args:\n",
        "            path (str): Path to GloVe vectors file\n",
        "            vector_size (int): Size of word vectors\n",
        "\n",
        "        Returns:\n",
        "            dict: Word to vector mappings\n",
        "        \"\"\"\n",
        "        #Create an embeddings dictionary and add key,value pairs where\n",
        "        #the keys are the words in the GloVe embeddings from the input file and\n",
        "        #the values are the vectors.\n",
        "        embeddings_dict = {}\n",
        "        try:\n",
        "            with open(path, 'r', encoding='utf-8') as f:\n",
        "                for line in f:\n",
        "                    values = line.split()\n",
        "                    word = values[0]\n",
        "                    vector = np.asarray(values[1:], dtype='float32') # Specify dtype\n",
        "                    if len(vector) == vector_size: # Check vector size\n",
        "                         embeddings_dict[word] = vector\n",
        "                    else:\n",
        "                         print(f\"Skipping word '{word}' with incorrect vector size: {len(vector)}\")\n",
        "\n",
        "        except FileNotFoundError:\n",
        "            print(f\"Warning: GloVe file not found at {path}\")\n",
        "        return embeddings_dict\n",
        "\n",
        "\n",
        "    def create_glove_features(self, texts, embeddings_dict):\n",
        "        \"\"\"\n",
        "        Convert texts to GloVe document vectors.\n",
        "\n",
        "        Args:\n",
        "            texts (list): List of input text documents\n",
        "            embeddings_dict (dict): GloVe word vector dictionary\n",
        "\n",
        "        Returns:\n",
        "            ndarray: Document vectors created by averaging word vectors\n",
        "        \"\"\"\n",
        "        #Preprocess the input texts\n",
        "        processed_texts = [self.preprocessor.preprocess_text(i)['final'] for i in texts]\n",
        "\n",
        "        # Get vector size from dictionary, handle empty dict case\n",
        "        vector_size = len(next(iter(embeddings_dict.values()))) if embeddings_dict else 0\n",
        "\n",
        "\n",
        "        #Create a document vectors list and append the word vectors\n",
        "        #Append the mean of the word vectors, otherwise append 0\n",
        "        doc_vectors = []\n",
        "\n",
        "        for text_tokens in processed_texts:\n",
        "            word_vectors = [embeddings_dict[i] for i in text_tokens if i in embeddings_dict]\n",
        "            if word_vectors:\n",
        "                doc_vectors.append(np.mean(word_vectors, axis=0))\n",
        "            else:\n",
        "                doc_vectors.append(np.zeros(vector_size)) # Specify size for zero vector\n",
        "        return np.array(doc_vectors)"
      ]
    },
    {
      "cell_type": "markdown",
      "id": "7d420698",
      "metadata": {
        "id": "7d420698"
      },
      "source": [
        "##**Example Usage and Visualization - Synthetic Data**\n",
        "\n",
        "- Creates example product reviews for demonstration.  \n",
        "- Creates visualization of Parts of Speech distribution.\n",
        "- **DO NOT CHANGE THE FOLLOWING CELL - FOR VERIFICATION PURPOSES**\n"
      ]
    },
    {
      "cell_type": "code",
      "execution_count": 5,
      "id": "0bcfccac",
      "metadata": {
        "id": "0bcfccac",
        "colab": {
          "base_uri": "https://localhost:8080/",
          "height": 1000
        },
        "outputId": "ceecfa78-5f6e-41b7-e3d1-b0f25227e6b1"
      },
      "outputs": [
        {
          "output_type": "stream",
          "name": "stdout",
          "text": [
            "\n",
            "Processing synthetic_reviews_129.csv\n",
            "Loaded 129 reviews\n",
            "Sentiment distribution:\n",
            "sentiment\n",
            " 0    43\n",
            "-1    43\n",
            " 1    43\n",
            "Name: count, dtype: int64\n",
            "Generating embeddings...\n",
            "TFIDF accuracy: 1.00\n",
            "WORD2VEC accuracy: 0.31\n",
            "GLOVE accuracy: 0.58\n"
          ]
        },
        {
          "output_type": "display_data",
          "data": {
            "text/plain": [
              "<Figure size 1000x600 with 1 Axes>"
            ],
            "image/png": "[encoded data removed]"
          },
          "metadata": {}
        },
        {
          "output_type": "stream",
          "name": "stdout",
          "text": [
            "\n",
            "Processing synthetic_reviews_300.csv\n",
            "Loaded 300 reviews\n",
            "Sentiment distribution:\n",
            "sentiment\n",
            " 1    100\n",
            " 0    100\n",
            "-1    100\n",
            "Name: count, dtype: int64\n",
            "Generating embeddings...\n",
            "TFIDF accuracy: 1.00\n",
            "WORD2VEC accuracy: 0.90\n",
            "GLOVE accuracy: 0.32\n"
          ]
        },
        {
          "output_type": "display_data",
          "data": {
            "text/plain": [
              "<Figure size 1000x600 with 1 Axes>"
            ],
            "image/png": "[encoded data removed]"
          },
          "metadata": {}
        },
        {
          "output_type": "stream",
          "name": "stdout",
          "text": [
            "Accuracies over all test files TFIDF :  [1. 1.]\n",
            "Accuracies over all test files WORD2VEC :  [0.30769231 0.9       ]\n",
            "Accuracies over all test files GLOVE :  [0.57692308 0.31666667]\n",
            "Average accuracies:  [1.         0.60384615 0.44679487]\n"
          ]
        },
        {
          "output_type": "execute_result",
          "data": {
            "text/plain": [
              "TestResults(failed=0, attempted=4)"
            ]
          },
          "metadata": {},
          "execution_count": 5
        }
      ],
      "source": [
        "def evaluate_embeddings(csv_files):\n",
        "    \"\"\"\n",
        "    Evaluate embedding methods on multiple CSV files.\n",
        "\n",
        "    Args:\n",
        "        csv_files (list): List of CSV filenames\n",
        "\n",
        "    Returns:\n",
        "        dict: Results containing accuracies for each method and file\n",
        "    \"\"\"\n",
        "\n",
        "    results = {\n",
        "        'files': csv_files,\n",
        "        'accuracies': {\n",
        "            'tfidf': np.zeros(len(csv_files)),\n",
        "            'word2vec': np.zeros(len(csv_files)),\n",
        "            'glove': np.zeros(len(csv_files))\n",
        "        }\n",
        "    }\n",
        "\n",
        "    preprocessor = TextPreprocessor()\n",
        "    word_embeddings = WordEmbeddings()\n",
        "\n",
        "    for i, file in enumerate(csv_files):\n",
        "        # Load reviews\n",
        "        df = pd.read_csv(file)\n",
        "        print(f\"\\nProcessing {file}\")\n",
        "        print(f\"Loaded {len(df)} reviews\")\n",
        "        print(\"Sentiment distribution:\")\n",
        "        print(df['sentiment'].value_counts())\n",
        "\n",
        "        # Generate embeddings\n",
        "        print(\"Generating embeddings...\")\n",
        "        tfidf_features, tfidf_vectorizer = word_embeddings.create_tfidf_features(df['review'])\n",
        "        w2v_features, w2v_model = word_embeddings.create_word2vec_features(df['review'])\n",
        "        glove_dict = word_embeddings.load_glove_vectors('sample_glove.txt', vector_size=10)\n",
        "        glove_features = word_embeddings.create_glove_features(df['review'], glove_dict)\n",
        "\n",
        "        # Train test split\n",
        "        X_train_tfidf, X_test_tfidf, y_train, y_test = train_test_split(\n",
        "            tfidf_features.toarray(), df['sentiment'], test_size=0.2, random_state=42,\n",
        "            stratify=df['sentiment']\n",
        "        )\n",
        "        X_train_w2v, X_test_w2v, _, _ = train_test_split(\n",
        "            w2v_features, df['sentiment'], test_size=0.2, random_state=42,\n",
        "            stratify=df['sentiment']\n",
        "        )\n",
        "        X_train_glove, X_test_glove, _, _ = train_test_split(\n",
        "            glove_features, df['sentiment'], test_size=0.2, random_state=42,\n",
        "            stratify=df['sentiment']\n",
        "        )\n",
        "\n",
        "        # Train and evaluate\n",
        "        models = {\n",
        "            'tfidf': LogisticRegression(random_state=42),\n",
        "            'word2vec': LogisticRegression(random_state=42),\n",
        "            'glove': LogisticRegression(random_state=42)\n",
        "        }\n",
        "\n",
        "        X_trains = {\n",
        "            'tfidf': X_train_tfidf,\n",
        "            'word2vec': X_train_w2v,\n",
        "            'glove': X_train_glove\n",
        "        }\n",
        "\n",
        "        X_tests = {\n",
        "            'tfidf': X_test_tfidf,\n",
        "            'word2vec': X_test_w2v,\n",
        "            'glove': X_test_glove\n",
        "        }\n",
        "\n",
        "        for method in models:\n",
        "            models[method].fit(X_trains[method], y_train)\n",
        "            acc = models[method].score(X_tests[method], y_test)\n",
        "            results['accuracies'][method][i] = acc\n",
        "            print(f\"{method.upper()} accuracy: {acc:.2f}\")\n",
        "\n",
        "        # Visualize results for this file\n",
        "        plt.figure(figsize=(10, 6))\n",
        "        plt.bar(list(models.keys()), [results['accuracies'][m][i] for m in models])\n",
        "        plt.title(f'Comparison of Word Embedding Methods - {file}')\n",
        "        plt.ylabel('Accuracy Score')\n",
        "        plt.ylim(0, 1)\n",
        "        plt.show()\n",
        "\n",
        "    return results\n",
        "\n",
        "\n",
        "# List of files to process\n",
        "csv_files = ['synthetic_reviews_129.csv', 'synthetic_reviews_300.csv']\n",
        "\n",
        "# Run evaluation\n",
        "results = evaluate_embeddings(csv_files)\n",
        "\n",
        "# Calculate average accuracies across files\n",
        "avg_acc = []\n",
        "for method in results['accuracies']:\n",
        "    print('Accuracies over all test files', method.upper(), ': ', results['accuracies'][method])\n",
        "    avg_acc = np.append(avg_acc, np.mean(results['accuracies'][method]))\n",
        "\n",
        "print('Average accuracies: ', avg_acc)\n",
        "\n",
        "import doctest\n",
        "\"\"\"\n",
        "  >>> np.isclose(results['accuracies']['tfidf'], [1., 1.], atol=1e-01)\n",
        "  array([ True,  True])\n",
        "  >>> np.isclose(results['accuracies']['word2vec'], [0.30769231, 0.95], atol=1e-01)\n",
        "  array([ True,  True])\n",
        "  >>> np.isclose(results['accuracies']['glove'], [0.57692308, 0.31666667], atol=1e-01)\n",
        "  array([ True,  True])\n",
        "  >>> np.isclose(avg_acc, [1., 0.62884615, 0.44679487], atol=1e-01)\n",
        "  array([ True,  True,  True])\n",
        "\"\"\"\n",
        "doctest.testmod()"
      ]
    },
    {
      "cell_type": "markdown",
      "id": "62d1ba0d",
      "metadata": {
        "id": "62d1ba0d"
      },
      "source": [
        "##**Example Predictions - Synthetic Data**\n",
        "\n",
        "- Experiment with the two review files included in the cell below (synthetic_reviews_129.csv, synthetic_reviews_300.csv)\n",
        "  (enable one or the other and run the cell)\n",
        "- Update the examples list\n"
      ]
    },
    {
      "cell_type": "code",
      "execution_count": 6,
      "id": "2859b877",
      "metadata": {
        "id": "2859b877",
        "colab": {
          "base_uri": "https://localhost:8080/"
        },
        "outputId": "800b0603-549c-472b-f298-6c6d8ace6031"
      },
      "outputs": [
        {
          "output_type": "stream",
          "name": "stdout",
          "text": [
            "Loaded 129 reviews\n",
            "\n",
            "Sentiment distribution:\n",
            "sentiment\n",
            " 0    43\n",
            "-1    43\n",
            " 1    43\n",
            "Name: count, dtype: int64\n",
            "Generating embeddings...\n",
            "\n",
            "Example Predictions:\n",
            "\n",
            "Review: This product is fantastic, works exactly as described!\n",
            "TF-IDF prediction: 1 (1=positive, 0=neutral, -1=negative)\n",
            "Word2Vec prediction: -1 (1=positive, 0=neutral, -1=negative)\n",
            "GloVe prediction: 1 (1=positive, 0=neutral, -1=negative)\n",
            "\n",
            "Review: I hate it.  terrible design!\n",
            "TF-IDF prediction: -1 (1=positive, 0=neutral, -1=negative)\n",
            "Word2Vec prediction: -1 (1=positive, 0=neutral, -1=negative)\n",
            "GloVe prediction: -1 (1=positive, 0=neutral, -1=negative)\n",
            "\n",
            "Review: Don't buy this shit.\n",
            "TF-IDF prediction: -1 (1=positive, 0=neutral, -1=negative)\n",
            "Word2Vec prediction: -1 (1=positive, 0=neutral, -1=negative)\n",
            "GloVe prediction: -1 (1=positive, 0=neutral, -1=negative)\n",
            "\n",
            "Review: I really enjoy using the product. Would definitely recommend to my friends!\n",
            "TF-IDF prediction: 1 (1=positive, 0=neutral, -1=negative)\n",
            "Word2Vec prediction: -1 (1=positive, 0=neutral, -1=negative)\n",
            "GloVe prediction: 1 (1=positive, 0=neutral, -1=negative)\n",
            "\n",
            "Review: Not as good as described, but still works.\n",
            "TF-IDF prediction: 0 (1=positive, 0=neutral, -1=negative)\n",
            "Word2Vec prediction: -1 (1=positive, 0=neutral, -1=negative)\n",
            "GloVe prediction: -1 (1=positive, 0=neutral, -1=negative)\n",
            "\n",
            "Review: Total waste of money.\n",
            "TF-IDF prediction: -1 (1=positive, 0=neutral, -1=negative)\n",
            "Word2Vec prediction: -1 (1=positive, 0=neutral, -1=negative)\n",
            "GloVe prediction: 1 (1=positive, 0=neutral, -1=negative)\n",
            "\n",
            "Review: It was terrible, and it ran out of battery so quickly.\n",
            "TF-IDF prediction: -1 (1=positive, 0=neutral, -1=negative)\n",
            "Word2Vec prediction: -1 (1=positive, 0=neutral, -1=negative)\n",
            "GloVe prediction: -1 (1=positive, 0=neutral, -1=negative)\n",
            "\n",
            "Review: Great product, good price.\n",
            "TF-IDF prediction: 1 (1=positive, 0=neutral, -1=negative)\n",
            "Word2Vec prediction: -1 (1=positive, 0=neutral, -1=negative)\n",
            "GloVe prediction: 0 (1=positive, 0=neutral, -1=negative)\n",
            "\n",
            "Review: Not a wise choice.\n",
            "TF-IDF prediction: -1 (1=positive, 0=neutral, -1=negative)\n",
            "Word2Vec prediction: -1 (1=positive, 0=neutral, -1=negative)\n",
            "GloVe prediction: -1 (1=positive, 0=neutral, -1=negative)\n",
            "\n",
            "Review: It is easy to use, but the material looks cheap.\n",
            "TF-IDF prediction: 0 (1=positive, 0=neutral, -1=negative)\n",
            "Word2Vec prediction: -1 (1=positive, 0=neutral, -1=negative)\n",
            "GloVe prediction: -1 (1=positive, 0=neutral, -1=negative)\n",
            "\n",
            "Review: Awesome! It is such a lovely dress.\n",
            "TF-IDF prediction: -1 (1=positive, 0=neutral, -1=negative)\n",
            "Word2Vec prediction: -1 (1=positive, 0=neutral, -1=negative)\n",
            "GloVe prediction: -1 (1=positive, 0=neutral, -1=negative)\n",
            "\n",
            "Review: It is fine considering its price, but I would not buy it again.\n",
            "TF-IDF prediction: -1 (1=positive, 0=neutral, -1=negative)\n",
            "Word2Vec prediction: -1 (1=positive, 0=neutral, -1=negative)\n",
            "GloVe prediction: -1 (1=positive, 0=neutral, -1=negative)\n"
          ]
        }
      ],
      "source": [
        "# Example predictions\n",
        "\n",
        "#Set the review files here:\n",
        "review_file = 'synthetic_reviews_129.csv'\n",
        "#review_file = 'synthetic_reviews_300.csv'\n",
        "\n",
        "def predict_sentiment(text, preprocessor, method='tfidf', tfidf_vectorizer=None, w2v_model=None, glove_dict=None, trained_clf=None):\n",
        "    \"\"\"Predict sentiment using specified method.\"\"\"\n",
        "    if method == 'tfidf':\n",
        "        features = tfidf_vectorizer.transform([text])\n",
        "        prediction = trained_clf.predict(features.toarray())[0]\n",
        "        return prediction, features.toarray()\n",
        "\n",
        "    elif method == 'word2vec':\n",
        "        processed_text = preprocessor.preprocess_text(text)['final']\n",
        "        word_vectors = [w2v_model.wv[word] for word in processed_text if word in w2v_model.wv]\n",
        "        if word_vectors:\n",
        "            features = np.mean(word_vectors, axis=0).reshape(1, -1)\n",
        "        else:\n",
        "            features = np.zeros((1, w2v_model.vector_size))\n",
        "        prediction = trained_clf.predict(features)[0]\n",
        "        return prediction, features\n",
        "\n",
        "    elif method == 'glove':\n",
        "        processed_text = preprocessor.preprocess_text(text)['final']\n",
        "        word_vectors = [glove_dict[word] for word in processed_text if word in glove_dict]\n",
        "        if word_vectors:\n",
        "            features = np.mean(word_vectors, axis=0).reshape(1, -1)\n",
        "        else:\n",
        "            features = np.zeros((1, len(next(iter(glove_dict.values())))))\n",
        "        prediction = trained_clf.predict(features)[0]\n",
        "        return prediction, features\n",
        "\n",
        "\n",
        "# Initial setup and feature generation\n",
        "preprocessor = TextPreprocessor()\n",
        "word_embeddings = WordEmbeddings()\n",
        "\n",
        "# Load reviews from CSV\n",
        "df = pd.read_csv(review_file)\n",
        "print(f\"Loaded {len(df)} reviews\")\n",
        "print(\"\\nSentiment distribution:\")\n",
        "print(df['sentiment'].value_counts())\n",
        "\n",
        "print(\"Generating embeddings...\")\n",
        "tfidf_features, tfidf_vectorizer = word_embeddings.create_tfidf_features(df['review'])\n",
        "w2v_features, w2v_model = word_embeddings.create_word2vec_features(df['review'])\n",
        "glove_dict = word_embeddings.load_glove_vectors('sample_glove.txt', vector_size=10)\n",
        "glove_features = word_embeddings.create_glove_features(df['review'], glove_dict)\n",
        "\n",
        "# Train test split\n",
        "X_train_tfidf, X_test_tfidf, y_train, y_test = train_test_split(\n",
        "    tfidf_features.toarray(), df['sentiment'], test_size=0.2, random_state=42, stratify=df['sentiment']\n",
        ")\n",
        "X_train_w2v, X_test_w2v, _, _ = train_test_split(\n",
        "    w2v_features, df['sentiment'], test_size=0.2, random_state=42, stratify=df['sentiment']\n",
        ")\n",
        "X_train_glove, X_test_glove, _, _ = train_test_split(\n",
        "    glove_features, df['sentiment'], test_size=0.2, random_state=42, stratify=df['sentiment']\n",
        ")\n",
        "\n",
        "# Train classifiers\n",
        "tfidf_clf = LogisticRegression(random_state=42)\n",
        "w2v_clf = LogisticRegression(random_state=42)\n",
        "glove_clf = LogisticRegression(random_state=42)\n",
        "\n",
        "tfidf_clf.fit(X_train_tfidf, y_train)\n",
        "w2v_clf.fit(X_train_w2v, y_train)\n",
        "glove_clf.fit(X_train_glove, y_train)\n",
        "\n",
        "#Create at least 10 example_reviews here.\n",
        "#The first listed is directly from the training dataset.\n",
        "#Use a few from the dataset to see how prediction works on the training dataset\n",
        "#for the '129' and '300' sentence files.\n",
        "#The second list is a made-up review (not included in the training set).\n",
        "#Create several of your own made-up reviews and observe the prediction\n",
        "#performance for the '129' and '300' sentence files.\n",
        "example_reviews = [\n",
        "    \"This product is fantastic, works exactly as described!\",\n",
        "    \"I hate it.  terrible design!\",\n",
        "    \"Don't buy this shit.\",\n",
        "    \"I really enjoy using the product. Would definitely recommend to my friends!\",\n",
        "    \"Not as good as described, but still works.\",\n",
        "    \"Total waste of money.\",\n",
        "    \"It was terrible, and it ran out of battery so quickly.\",\n",
        "    \"Great product, good price.\",\n",
        "    \"Not a wise choice.\",\n",
        "    \"It is easy to use, but the material looks cheap.\",\n",
        "    \"Awesome! It is such a lovely dress.\",\n",
        "    \"It is fine considering its price, but I would not buy it again.\"\n",
        "]\n",
        "\n",
        "print(\"\\nExample Predictions:\")\n",
        "for review in example_reviews:\n",
        "    print(f\"\\nReview: {review}\")\n",
        "    tfidf_pred, tfidf_feat = predict_sentiment(review, preprocessor, 'tfidf',\n",
        "                                             tfidf_vectorizer=tfidf_vectorizer,\n",
        "                                             trained_clf=tfidf_clf)\n",
        "    w2v_pred, w2v_feat = predict_sentiment(review, preprocessor, 'word2vec',\n",
        "                                         w2v_model=w2v_model,\n",
        "                                         trained_clf=w2v_clf)\n",
        "    glove_pred, glove_feat = predict_sentiment(review, preprocessor, 'glove',\n",
        "                                             glove_dict=glove_dict,\n",
        "                                             trained_clf=glove_clf)\n",
        "    print(f\"TF-IDF prediction: {tfidf_pred} (1=positive, 0=neutral, -1=negative)\")\n",
        "    print(f\"Word2Vec prediction: {w2v_pred} (1=positive, 0=neutral, -1=negative)\")\n",
        "    print(f\"GloVe prediction: {glove_pred} (1=positive, 0=neutral, -1=negative)\")"
      ]
    },
    {
      "cell_type": "markdown",
      "id": "ff26e389",
      "metadata": {
        "id": "ff26e389"
      },
      "source": [
        "**REFLECTION**   \n",
        "Answer the following questions:\n",
        "\n",
        "\n",
        "1. Implementation Analysis:\n",
        "Compare the sentiment analysis results using TF-IDF, Word2Vec, and GloVe embeddings in your implementation. Which performed better for the 'synthetic_reviews_129.csv' product review dataset and why do you think that was the case? Support your answer with specific examples from your results.\n",
        "2. Compare the sentiment analysis results for the 2 different review files provided ('synthetic_reviews_129.csv', 'synthetic_reviews_300.csv').  Which embeddings technique consistently performed best and which performed worst.  Provide possible reasons why.  \n",
        "3. Technical Understanding:\n",
        "Suppose you encountered a new product review containing words not present in your training vocabulary. Explain how each embedding method (TF-IDF, Word2Vec, GloVe) handles out-of-vocabulary words, and propose a strategy to improve handling of such cases.\n",
        "4. Practical Application:\n",
        "Suppose your model shows high accuracy but poor real-world performance on certain product categories. How could you use the word embedding visualizations to diagnose potential biases or gaps in your model's understanding of product-specific terminology? Include specific visualization techniques in your answer.\n"
      ]
    },
    {
      "cell_type": "markdown",
      "source": [
        "Answer the following questions:\n",
        "\n",
        "1. Implementation Analysis: Compare the sentiment analysis results using TF-IDF, Word2Vec, and GloVe embeddings in your implementation. Which performed better for the 'synthetic_reviews_129.csv' product review dataset and why do you think that was the case? Support your answer with specific examples from your results.\n",
        "\n",
        "   **My Ans:** For the 129 review, I think TF-IDF is the better method, since from the bar chart we can see it has the highest accuracy score.\n",
        "\n",
        "2. Compare the sentiment analysis results for the 2 different review files provided ('synthetic_reviews_129.csv', 'synthetic_reviews_300.csv'). Which embeddings technique consistently performed best and which performed worst. Provide possible reasons why.\n",
        "\n",
        "   **My Ans:** Comparint the 129 review and the 300 review, I think TF-TDF consistently perfrom better, while Glove can be considered as the worst model.\n",
        "\n",
        "3. Technical Understanding: Suppose you encountered a new product review containing words not present in your training vocabulary. Explain how each embedding method (TF-IDF, Word2Vec, GloVe) handles out-of-vocabulary words, and propose a strategy to improve handling of such cases.\n",
        "\n",
        "   **My Ans:** For the TF-TDF method, it just simply ignores the oov words; for the Word2Vec and Glove, we can assign the unknown words to a separare group: 'UNK' or 'OOV'.\n",
        "\n",
        "4. Practical Application: Suppose your model shows high accuracy but poor real-world performance on certain product categories. How could you use the word embedding visualizations to diagnose potential biases or gaps in your model's understanding of product-specific terminology? Include specific visualization techniques in your answer.\n",
        "\n",
        "​        **My Ans:** Maybe it is because the embeddings does not perform well in the new scenario. We may use a heatmap to see the cosine similarity and check whether the embeddings follow the reasonable categories."
      ],
      "metadata": {
        "id": "vRRpYj1r-rGC"
      },
      "id": "vRRpYj1r-rGC"
    },
    {
      "cell_type": "markdown",
      "id": "ffb1a9f7",
      "metadata": {
        "id": "ffb1a9f7"
      },
      "source": [
        "##**Assignment extension - 1**\n",
        "Find a real dataset to analyze and discuss the difference between it and the synthetic dataset.  \n",
        "\n",
        "Here are relevant datasets for student review analysis:\n",
        "\n",
        "Amazon Product Reviews Dataset:\n",
        "\n",
        "- \"Amazon Product Data\" (5-core) by Julian McAuley   \n",
        "  Contains reviews across multiple product categories\n",
        "  Easy to download subsets by category\n",
        "  Source: https://cseweb.ucsd.edu/~jmcauley/datasets.html#amazon_reviews  \n",
        "  **NOTE**:  The code provided uses accesses and parses this dataset (you may use this if you'd like).\n",
        "\n",
        "- Yelp Reviews Dataset:  \n",
        "  Free academic dataset from Yelp\n",
        "  Contains business reviews with ratings\n",
        "  Source: https://www.yelp.com/dataset\n",
        "\n",
        "- IMDB Movie Reviews:  \n",
        "  50K movie reviews labeled by sentiment\n",
        "  Popular benchmark dataset\n",
        "  Available through scikit-learn's load_files\n",
        "  Source: http://ai.stanford.edu/~amaas/data/sentiment/"
      ]
    },
    {
      "cell_type": "code",
      "source": [
        "!wget -nc http://snap.stanford.edu/data/amazon/productGraph/categoryFiles/reviews_Electronics_5.json.gz\n",
        "!wget -nc http://snap.stanford.edu/data/amazon/productGraph/categoryFiles/meta_Electronics.json.gz\n",
        "!gzip -d reviews_Electronics_5.json.gz\n",
        "!gzip -d meta_Electronics.json.gz\n",
        "!wget -nc http://snap.stanford.edu/data/amazon/productGraph/categoryFiles/ratings_Electronics.csv"
      ],
      "metadata": {
        "colab": {
          "base_uri": "https://localhost:8080/"
        },
        "id": "sP9woS8z5I-m",
        "outputId": "786beb11-6d25-40cd-fcd4-c4ccbac3eabb"
      },
      "id": "sP9woS8z5I-m",
      "execution_count": 2,
      "outputs": [
        {
          "output_type": "stream",
          "name": "stdout",
          "text": [
            "--2025-08-23 12:26:28--  http://snap.stanford.edu/data/amazon/productGraph/categoryFiles/reviews_Electronics_5.json.gz\n",
            "Resolving snap.stanford.edu (snap.stanford.edu)... 171.64.75.80\n",
            "Connecting to snap.stanford.edu (snap.stanford.edu)|171.64.75.80|:80... connected.\n",
            "HTTP request sent, awaiting response... 200 OK\n",
            "Length: 495854086 (473M) [application/x-gzip]\n",
            "Saving to: ‘reviews_Electronics_5.json.gz’\n",
            "\n",
            "reviews_Electronics 100%[===================>] 472.88M   101MB/s    in 6.4s    \n",
            "\n",
            "2025-08-23 12:26:35 (74.1 MB/s) - ‘reviews_Electronics_5.json.gz’ saved [495854086/495854086]\n",
            "\n",
            "--2025-08-23 12:26:35--  http://snap.stanford.edu/data/amazon/productGraph/categoryFiles/meta_Electronics.json.gz\n",
            "Resolving snap.stanford.edu (snap.stanford.edu)... 171.64.75.80\n",
            "Connecting to snap.stanford.edu (snap.stanford.edu)|171.64.75.80|:80... connected.\n",
            "HTTP request sent, awaiting response... 200 OK\n",
            "Length: 186594679 (178M) [application/x-gzip]\n",
            "Saving to: ‘meta_Electronics.json.gz’\n",
            "\n",
            "meta_Electronics.js 100%[===================>] 177.95M  20.2MB/s    in 9.6s    \n",
            "\n",
            "2025-08-23 12:26:44 (18.6 MB/s) - ‘meta_Electronics.json.gz’ saved [186594679/186594679]\n",
            "\n",
            "--2025-08-23 12:27:08--  http://snap.stanford.edu/data/amazon/productGraph/categoryFiles/ratings_Electronics.csv\n",
            "Resolving snap.stanford.edu (snap.stanford.edu)... 171.64.75.80\n",
            "Connecting to snap.stanford.edu (snap.stanford.edu)|171.64.75.80|:80... connected.\n",
            "HTTP request sent, awaiting response... 200 OK\n",
            "Length: 318766497 (304M) [text/csv]\n",
            "Saving to: ‘ratings_Electronics.csv’\n",
            "\n",
            "ratings_Electronics 100%[===================>] 304.00M  79.8MB/s    in 5.1s    \n",
            "\n",
            "2025-08-23 12:27:13 (59.7 MB/s) - ‘ratings_Electronics.csv’ saved [318766497/318766497]\n",
            "\n"
          ]
        }
      ]
    },
    {
      "cell_type": "code",
      "source": [
        "!pwd\n",
        "!ls -lh"
      ],
      "metadata": {
        "colab": {
          "base_uri": "https://localhost:8080/"
        },
        "id": "F0s_borp6K9Q",
        "outputId": "ffeb1582-6a1c-42c7-a132-8fb8710942fa"
      },
      "id": "F0s_borp6K9Q",
      "execution_count": 5,
      "outputs": [
        {
          "output_type": "stream",
          "name": "stdout",
          "text": [
            "/content\n",
            "total 2.3G\n",
            "-rw-r--r-- 1 root root 633M Sep 24  2015 meta_Electronics.json\n",
            "-rw-r--r-- 1 root root 304M Apr 27  2016 ratings_Electronics.csv\n",
            "-rw-r--r-- 1 root root 1.4G Apr 26  2016 reviews_Electronics_5.json\n",
            "drwxr-xr-x 1 root root 4.0K Aug 21 13:41 sample_data\n"
          ]
        }
      ]
    },
    {
      "cell_type": "code",
      "source": [
        "import pandas as pd\n",
        "import gzip\n",
        "import json\n",
        "def parse_amazon_reviews(path, max_reviews=1000):\n",
        "    \"\"\"\n",
        "    Parse Amazon review data from a .json.gz or a .json (JSON Lines) file.\n",
        "    Returns a balanced DataFrame with columns: ['review', 'sentiment'].\n",
        "    \"\"\"\n",
        "    path = str(path)\n",
        "\n",
        "    if path.endswith(\".gz\"):\n",
        "        opener = lambda p: gzip.open(p, mode=\"rt\", encoding=\"utf-8\")\n",
        "    else:\n",
        "        opener = lambda p: open(p, mode=\"r\", encoding=\"utf-8\")\n",
        "\n",
        "    reviews = []\n",
        "    with opener(path) as f:\n",
        "        for i, line in enumerate(f):\n",
        "            if i >= max_reviews:\n",
        "                break\n",
        "            try:\n",
        "                review = json.loads(line)\n",
        "            except json.JSONDecodeError:\n",
        "                continue\n",
        "\n",
        "\n",
        "            rating = float(review.get('overall', 0))\n",
        "            if rating >= 4:\n",
        "                sentiment = 1\n",
        "            elif rating <= 2:\n",
        "                sentiment = -1\n",
        "            else:\n",
        "                sentiment = 0\n",
        "\n",
        "            text = (review.get('reviewText') or \"\").strip()\n",
        "            if text:\n",
        "                reviews.append({'review': text, 'sentiment': sentiment})\n",
        "\n",
        "    df = pd.DataFrame(reviews)\n",
        "\n",
        "    if not df.empty:\n",
        "        min_samples = df['sentiment'].value_counts().min()\n",
        "        if min_samples > 0 and df['sentiment'].nunique() > 1:\n",
        "            df = pd.concat([\n",
        "                df[df['sentiment'] == label].sample(n=min_samples, random_state=42)\n",
        "                for label in df['sentiment'].unique()\n",
        "            ]).sample(frac=1, random_state=42)  # shuffle\n",
        "\n",
        "    return df"
      ],
      "metadata": {
        "id": "NaQu2TJe7KqW"
      },
      "id": "NaQu2TJe7KqW",
      "execution_count": 7,
      "outputs": []
    },
    {
      "cell_type": "code",
      "execution_count": 8,
      "id": "d3d5decd",
      "metadata": {
        "id": "d3d5decd",
        "colab": {
          "base_uri": "https://localhost:8080/",
          "height": 840
        },
        "outputId": "3bb70a15-9bb0-4a87-a695-2e4343579cff"
      },
      "outputs": [
        {
          "output_type": "stream",
          "name": "stdout",
          "text": [
            "\n",
            "Processing amazon_electronics_reviews.csv\n",
            "Loaded 1251 reviews\n",
            "Sentiment distribution:\n",
            "sentiment\n",
            " 0    417\n",
            " 1    417\n",
            "-1    417\n",
            "Name: count, dtype: int64\n",
            "Generating embeddings...\n",
            "TFIDF accuracy: 0.57\n",
            "WORD2VEC accuracy: 0.35\n",
            "GLOVE accuracy: 0.41\n"
          ]
        },
        {
          "output_type": "display_data",
          "data": {
            "text/plain": [
              "<Figure size 1000x600 with 1 Axes>"
            ],
            "image/png": "[encoded data removed]"
          },
          "metadata": {}
        },
        {
          "output_type": "stream",
          "name": "stdout",
          "text": [
            "Accuracies over all test files TFIDF :  [0.56573705]\n",
            "Accuracies over all test files WORD2VEC :  [0.35059761]\n",
            "Accuracies over all test files GLOVE :  [0.4063745]\n",
            "Average accuracies:  [0.56573705 0.35059761 0.4063745 ]\n"
          ]
        }
      ],
      "source": [
        "# Load Amazon reviews\n",
        "df = parse_amazon_reviews('/content/reviews_Electronics_5.json', max_reviews=5000)\n",
        "\n",
        "# Clean the reviews data\n",
        "df = df[df['review'].notna()]  # Remove null rows\n",
        "df = df[df['review'].str.len() > 0]  # Remove empty reviews\n",
        "df['review'] = df['review'].replace({r'\\s+': ' '}, regex=True).str.strip()  # Clean whitespace\n",
        "\n",
        "# Balance classes again after cleaning\n",
        "min_samples = df['sentiment'].value_counts().min()\n",
        "balanced_df = pd.concat([\n",
        "    df[df['sentiment'] == label].sample(n=min_samples, random_state=42)\n",
        "    for label in df['sentiment'].unique()\n",
        "]).sample(frac=1, random_state=42)\n",
        "\n",
        "# Save cleaned data\n",
        "csv_filename = 'amazon_electronics_reviews.csv'\n",
        "balanced_df.to_csv(csv_filename, index=False)\n",
        "\n",
        "# Run evaluation\n",
        "csv_files = [csv_filename]\n",
        "results = evaluate_embeddings(csv_files)\n",
        "\n",
        "# Calculate average accuracies across files\n",
        "avg_acc = []\n",
        "for method in results['accuracies']:\n",
        "    print('Accuracies over all test files', method.upper(), ': ', results['accuracies'][method])\n",
        "    avg_acc = np.append(avg_acc, np.mean(results['accuracies'][method]))\n",
        "\n",
        "print('Average accuracies: ', avg_acc)"
      ]
    },
    {
      "cell_type": "markdown",
      "id": "d635b03a",
      "metadata": {
        "id": "d635b03a"
      },
      "source": [
        "**REFLECTION**   \n",
        "Answer the following questions:\n",
        "\n",
        "1.  Compare the sentiment analysis results using TF-IDF, Word2Vec, and GloVe embeddings for a real dataset. Which performed best for the dataset you used and why do you think that was the case? Support your answer with specific examples from your results.\n",
        "2. Why do you think the results for the real dataset differed from the synthetic one used in the previous cell?\n"
      ]
    },
    {
      "cell_type": "markdown",
      "source": [
        "Answer the following questions:\n",
        "\n",
        "1. Compare the sentiment analysis results using TF-IDF, Word2Vec, and GloVe embeddings for a real dataset. Which performed best for the dataset you used and why do you think that was the case? Support your answer with specific examples from your results.\n",
        "\n",
        " **My Ans:** From the graphs, RF-TDF still perform (accuracy: 0.5657) better than the remaining models. RF-TDF has advantage in small-scale and sparse texts, such as reviews; while Word2Vec and Glove may be more suitable in larger data or richer sentimental scenario.\n",
        "\n",
        "2. Why do you think the results for the real dataset differed from the synthetic one used in the previous cell?\n",
        "\n",
        " **My Ans:**I think in the synthetics one, some reviews are duplicate, and also real-world customers may not write reviews like the synthetic ones."
      ],
      "metadata": {
        "id": "YewMHrBP-tQ_"
      },
      "id": "YewMHrBP-tQ_"
    }
  ],
  "metadata": {
    "colab": {
      "provenance": [],
      "toc_visible": true
    },
    "language_info": {
      "name": "python"
    },
    "kernelspec": {
      "name": "python3",
      "display_name": "Python 3"
    }
  },
  "nbformat": 4,
  "nbformat_minor": 5
}