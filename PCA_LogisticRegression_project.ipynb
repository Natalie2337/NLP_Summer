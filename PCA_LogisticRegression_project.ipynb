{
 "cells": [
  {
   "cell_type": "markdown",
   "id": "e9d0b624",
   "metadata": {
    "id": "ArwPfAmQujZ8"
   },
   "source": [
    "**Copyright: © NexStream Technical Education, LLC**.  \n",
    "All rights reserved"
   ]
  },
  {
   "cell_type": "markdown",
   "id": "a66ae03f",
   "metadata": {
    "id": "eXNlBV-7seY2"
   },
   "source": [
    "#Sci-kit-learn PCA and Logistic Regression Implementation   \n",
    "\n",
    "\n",
    "**Logistic Regression**   \n",
    "\n",
    "Logistic regression is a simple yet powerful algorithm used for classification tasks, where the goal is to predict one of two possible outcomes.  \n",
    "It works by applying the sigmoid function, $f(z) = \\frac{1}{1 + e^{-z}}$, to a linear combination of input features, producing a probability score that indicates the likelihood of belonging to a particular class. Despite its simplicity, logistic regression is widely used as a baseline model for tasks like spam detection and sentiment analysis, offering interpretability and solid performance on linearly separable data.  \n",
    "Please refer to the lecture notes on a general description of the logistic regression algorithm.\n",
    "\n",
    "<br>\n",
    "\n",
    "**Principal Component Analysis (PCA)**   \n",
    "\n",
    "The goal of PCA, is to reduce the number of dimensions represented by the independent variables (features) in our dataset. We do this by transforming the features as linear combinations onto a new set of axes with reduced dimensionality. The transformation will satisfy the following:\n",
    "- Features are linearly independent (orthogonal).\n",
    "- Dimensions are reduced based on projecting data onto axes which result in the largest variance, since this provides the most information about the data.\n",
    "- The new dimensions will be created by projecting the original features onto transformed (e.g. rotated) axes.\n",
    "\n",
    "<br>\n",
    "\n",
    "In this assignment, you will model a 30-feature dataset with Logistic Regression, then experiment with PCA to reduce the dimensions of the dataset and evaluate the classification performance.\n",
    "\n",
    "<br>\n",
    "\n",
    "Follow the instructions in the code cell to complete and test your code. You will replace all triple underscores (___) with your code.\n",
    "Please refer to the lecture slides for details on each of the functions/algorithms and hints on the implementation."
   ]
  },
  {
   "cell_type": "code",
   "execution_count": 1,
   "id": "8ae3bd7e",
   "metadata": {},
   "outputs": [
    {
     "name": "stdout",
     "output_type": "stream",
     "text": [
      "Number of dataset features: 30\n",
      "Dataset feature names:\n",
      " ['mean radius' 'mean texture' 'mean perimeter' 'mean area'\n",
      " 'mean smoothness' 'mean compactness' 'mean concavity'\n",
      " 'mean concave points' 'mean symmetry' 'mean fractal dimension'\n",
      " 'radius error' 'texture error' 'perimeter error' 'area error'\n",
      " 'smoothness error' 'compactness error' 'concavity error'\n",
      " 'concave points error' 'symmetry error' 'fractal dimension error'\n",
      " 'worst radius' 'worst texture' 'worst perimeter' 'worst area'\n",
      " 'worst smoothness' 'worst compactness' 'worst concavity'\n",
      " 'worst concave points' 'worst symmetry' 'worst fractal dimension']\n",
      "Dataset data:\n",
      " [[1.799e+01 1.038e+01 1.228e+02 ... 2.654e-01 4.601e-01 1.189e-01]\n",
      " [2.057e+01 1.777e+01 1.329e+02 ... 1.860e-01 2.750e-01 8.902e-02]\n",
      " [1.969e+01 2.125e+01 1.300e+02 ... 2.430e-01 3.613e-01 8.758e-02]\n",
      " ...\n",
      " [1.660e+01 2.808e+01 1.083e+02 ... 1.418e-01 2.218e-01 7.820e-02]\n",
      " [2.060e+01 2.933e+01 1.401e+02 ... 2.650e-01 4.087e-01 1.240e-01]\n",
      " [7.760e+00 2.454e+01 4.792e+01 ... 0.000e+00 2.871e-01 7.039e-02]]\n",
      "Dataset label names:\n",
      " ['malignant' 'benign']\n",
      "Dataset labels:\n",
      " [0 0 0 0 0 0 0 0 0 0 0 0 0 0 0 0 0 0 0 1 1 1 0 0 0 0 0 0 0 0 0 0 0 0 0 0 0\n",
      " 1 0 0 0 0 0 0 0 0 1 0 1 1 1 1 1 0 0 1 0 0 1 1 1 1 0 1 0 0 1 1 1 1 0 1 0 0\n",
      " 1 0 1 0 0 1 1 1 0 0 1 0 0 0 1 1 1 0 1 1 0 0 1 1 1 0 0 1 1 1 1 0 1 1 0 1 1\n",
      " 1 1 1 1 1 1 0 0 0 1 0 0 1 1 1 0 0 1 0 1 0 0 1 0 0 1 1 0 1 1 0 1 1 1 1 0 1\n",
      " 1 1 1 1 1 1 1 1 0 1 1 1 1 0 0 1 0 1 1 0 0 1 1 0 0 1 1 1 1 0 1 1 0 0 0 1 0\n",
      " 1 0 1 1 1 0 1 1 0 0 1 0 0 0 0 1 0 0 0 1 0 1 0 1 1 0 1 0 0 0 0 1 1 0 0 1 1\n",
      " 1 0 1 1 1 1 1 0 0 1 1 0 1 1 0 0 1 0 1 1 1 1 0 1 1 1 1 1 0 1 0 0 0 0 0 0 0\n",
      " 0 0 0 0 0 0 0 1 1 1 1 1 1 0 1 0 1 1 0 1 1 0 1 0 0 1 1 1 1 1 1 1 1 1 1 1 1\n",
      " 1 0 1 1 0 1 0 1 1 1 1 1 1 1 1 1 1 1 1 1 1 0 1 1 1 0 1 0 1 1 1 1 0 0 0 1 1\n",
      " 1 1 0 1 0 1 0 1 1 1 0 1 1 1 1 1 1 1 0 0 0 1 1 1 1 1 1 1 1 1 1 1 0 0 1 0 0\n",
      " 0 1 0 0 1 1 1 1 1 0 1 1 1 1 1 0 1 1 1 0 1 1 0 0 1 1 1 1 1 1 0 1 1 1 1 1 1\n",
      " 1 0 1 1 1 1 1 0 1 1 0 1 1 1 1 1 1 1 1 1 1 1 1 0 1 0 0 1 0 1 1 1 1 1 0 1 1\n",
      " 0 1 0 1 1 0 1 0 1 1 1 1 1 1 1 1 0 0 1 1 1 1 1 1 0 1 1 1 1 1 1 1 1 1 1 0 1\n",
      " 1 1 1 1 1 1 0 1 0 1 1 0 1 1 1 1 1 0 0 1 0 1 0 1 1 1 1 1 0 1 1 0 1 0 1 0 0\n",
      " 1 1 1 0 1 1 1 1 1 1 1 1 1 1 1 0 1 0 0 1 1 1 1 1 1 1 1 1 1 1 1 1 1 1 1 1 1\n",
      " 1 1 1 1 1 1 1 0 0 0 0 0 0 1]\n",
      "Dataset label split:\n",
      " [[  0   1]\n",
      " [212 357]]\n"
     ]
    }
   ],
   "source": [
    "# Environment setup and dataset load functions\n",
    "# No coding needed.  Run this cell to set up your environment and load the dataset.\n",
    "\n",
    "from sklearn.datasets import load_breast_cancer\n",
    "import numpy as np\n",
    "import pandas as pd\n",
    "from sklearn.model_selection import train_test_split\n",
    "from sklearn.linear_model import LogisticRegression\n",
    "from sklearn.preprocessing import StandardScaler\n",
    "from sklearn.decomposition import PCA\n",
    "import matplotlib.pyplot as plt\n",
    "import matplotlib.pyplot as plt\n",
    "import seaborn as sns\n",
    "\n",
    "# Load the dataset\n",
    "# This dataset and others are described here:  https://scikit-learn.org/stable/datasets.html\n",
    "breast_cancer = load_breast_cancer()\n",
    "\n",
    "# Printout info about the dataset.\n",
    "# Note the attributes that can be accessed to printout useful information.\n",
    "print('Number of dataset features:', len(breast_cancer.feature_names))\n",
    "print('Dataset feature names:\\n', breast_cancer.feature_names)\n",
    "print('Dataset data:\\n', breast_cancer.data)\n",
    "print('Dataset label names:\\n', breast_cancer.target_names)\n",
    "print('Dataset labels:\\n', breast_cancer.target)\n",
    "print('Dataset label split:\\n', np.array(np.unique(breast_cancer.target, return_counts=True)))"
   ]
  },
  {
   "cell_type": "markdown",
   "id": "c88c7934",
   "metadata": {
    "id": "fZVs2qWJrgJ6"
   },
   "source": [
    "**Step 1:**  \n",
    "\n",
    "Load the 30 breast cancer features and diagnosis result from dataset into a Pandas dataframe.   \n",
    "\n",
    "- Hint:  https://pandas.pydata.org/docs/reference/frame.html  \n",
    "- Hint:  https://scikit-learn.org/0.22/modules/generated/sklearn.datasets.load_breast_cancer.html   \n",
    "- Hint:  use breast_cancer attributes from the imported breast_cancer_dataset (.data, .feature_names, .target)  "
   ]
  },
  {
   "cell_type": "code",
   "execution_count": 2,
   "id": "22a7149e",
   "metadata": {},
   "outputs": [
    {
     "data": {
      "text/plain": [
       "TestResults(failed=0, attempted=4)"
      ]
     },
     "execution_count": 2,
     "metadata": {},
     "output_type": "execute_result"
    }
   ],
   "source": [
    "# Step 1:\n",
    "# Load features and diagnosis from dataset into dataframe:\n",
    "\n",
    "df = pd.DataFrame(breast_cancer.data, columns=breast_cancer.feature_names)\n",
    "df['diagnosis'] = pd.DataFrame(breast_cancer.target)\n",
    "\n",
    "\n",
    "\n",
    "#For verification purposes - do not change code below this line.\n",
    "import doctest\n",
    "\n",
    "\"\"\"\n",
    "  >>> print(df['mean concave points'].iloc[0])\n",
    "  0.1471\n",
    "  >>> print(df['worst fractal dimension'].iloc[150])\n",
    "  0.06435\n",
    "  >>> print(df['diagnosis'].iloc[200])\n",
    "  1\n",
    "  >>> print(df['mean symmetry'].iloc[568])\n",
    "  0.1587\n",
    "\"\"\"\n",
    "\n",
    "doctest.testmod()"
   ]
  },
  {
   "cell_type": "markdown",
   "id": "96da5fdb",
   "metadata": {
    "id": "7b2GWrMOwmom"
   },
   "source": [
    "**Step 2:**   \n",
    "\n",
    "Train and test a model using all the features with Logistic regression   \n",
    "Note, the dataset is described here:  https://scikit-learn.org/stable/modules/generated/sklearn.datasets.load_breast_cancer.html\n",
    "-     Use the unscaled (raw) dataset - we will scale and rerun in the following step.\n",
    "-     Use a train/test split of 70/30 (30% test)\n",
    "-     Hint:  https://scikit-learn.org/stable/modules/classes.html#module-sklearn.model_selection\n",
    "-     Hint:  https://scikit-learn.org/stable/modules/classes.html#module-sklearn.linear_model\n",
    "-     Hint:  https://scikit-learn.org/stable/modules/generated/sklearn.linear_model.LogisticRegression.html#sklearn.linear_model.LogisticRegression.fit\n",
    "-     Hint:  https://scikit-learn.org/stable/modules/generated/sklearn.linear_model.LogisticRegression.html#sklearn.linear_model.LogisticRegression.score\n"
   ]
  },
  {
   "cell_type": "code",
   "execution_count": 3,
   "id": "8af89626",
   "metadata": {},
   "outputs": [
    {
     "name": "stdout",
     "output_type": "stream",
     "text": [
      "Logistic regression model score on UNSCALED dataset (all features): 0.9239766081871345\n",
      "**********************************************************************\n",
      "File \"__main__\", line 3, in __main__\n",
      "Failed example:\n",
      "    np.isclose(log_reg_score, 0.9239766081871345, atol=1e-03)\n",
      "Expected:\n",
      "    True\n",
      "Got:\n",
      "    np.True_\n",
      "**********************************************************************\n",
      "1 items had failures:\n",
      "   1 of   1 in __main__\n",
      "***Test Failed*** 1 failures.\n"
     ]
    },
    {
     "data": {
      "text/plain": [
       "TestResults(failed=1, attempted=1)"
      ]
     },
     "execution_count": 3,
     "metadata": {},
     "output_type": "execute_result"
    }
   ],
   "source": [
    "#Step 2:\n",
    "\n",
    "# Train and test a model using all the features with Logistic regression\n",
    "# Assign indep and dep vars (X, y) from your dataframe\n",
    "# Generate training split (X_train, X_test, y_train, y_test)\n",
    "# Perform Logistic Regresssion on your training data\n",
    "# Generate the score of your model (e.g. _.score(X_test, y_test))\n",
    "\n",
    "# Extract the features from the dataframe into X.\n",
    "X = df.drop('diagnosis', axis=1)\n",
    "\n",
    "# Extract the labels from the dataframe into y.\n",
    "# Note that the lables(diagnosis) are the last column in the dataframe.\n",
    "y = df['diagnosis']\n",
    "\n",
    "# Split the dataset into train and test.\n",
    "# Set a seed (random_state) for reproducibility.\n",
    "# Use the code below to set the seed and split the data into train and test sets.\n",
    "random_state = 12\n",
    "X_train, X_test, y_train, y_test =  train_test_split(X, y,\n",
    "                                        test_size = 0.3,\n",
    "                                        shuffle = True,\n",
    "                                        random_state=random_state)\n",
    "\n",
    "\n",
    "# Initialize a logistic regression reference.  Set the max iterations to 5000.\n",
    "log_reg = LogisticRegression(max_iter=5000)\n",
    "\n",
    "# Train (fit) the model.\n",
    "# Hint: use the train data here.\n",
    "log_reg.fit(X_train, y_train)\n",
    "\n",
    "#y_hat = log_reg.predict(X_test)\n",
    "\n",
    "# Record the score.\n",
    "# Hint: use the test data here.\n",
    "log_reg_score = log_reg.score(X_test, y_test)\n",
    "print('Logistic regression model score on UNSCALED dataset (all features):', log_reg_score)\n",
    "\n",
    "\n",
    "\n",
    "#For verification purposes - do not change code below this line.\n",
    "import doctest\n",
    "\n",
    "\"\"\"\n",
    "  >>> np.isclose(log_reg_score, 0.9239766081871345, atol=1e-03)\n",
    "  True\n",
    "\"\"\"\n",
    "\n",
    "doctest.testmod()"
   ]
  },
  {
   "cell_type": "markdown",
   "id": "63e826c8",
   "metadata": {
    "id": "_GcSIyR3xtmP"
   },
   "source": [
    "**Step 3:**  \n",
    "\n",
    "Scale data using Standard Scaling for PCA processing.\n",
    "-    Rerun logistic regression model on the scaled data to have apples to apples comparison on score after reducing the dimensions via PCA.\n",
    "-    https://scikit-learn.org/stable/modules/generated/sklearn.preprocessing.StandardScaler.html#sklearn.preprocessing.StandardScaler\n",
    "-    https://scikit-learn.org/stable/modules/generated/sklearn.preprocessing.StandardScaler.html#sklearn.preprocessing.StandardScaler.fit_transform\n"
   ]
  },
  {
   "cell_type": "code",
   "execution_count": 6,
   "id": "1e7bdd8b",
   "metadata": {},
   "outputs": [
    {
     "name": "stdout",
     "output_type": "stream",
     "text": [
      "Logistic regression model score on SCALED dataset (all features): 0.9824561403508771\n",
      "**********************************************************************\n",
      "File \"__main__\", line 3, in __main__\n",
      "Failed example:\n",
      "    np.isclose(log_reg_scaled_score, 0.9824561403508771, atol=1e-03)\n",
      "Expected:\n",
      "    True\n",
      "Got:\n",
      "    np.True_\n",
      "**********************************************************************\n",
      "1 items had failures:\n",
      "   1 of   1 in __main__\n",
      "***Test Failed*** 1 failures.\n"
     ]
    },
    {
     "data": {
      "text/plain": [
       "TestResults(failed=1, attempted=1)"
      ]
     },
     "execution_count": 6,
     "metadata": {},
     "output_type": "execute_result"
    }
   ],
   "source": [
    "# Step 3:\n",
    "\n",
    "# Scale data using Standard Scaling - this will be for PCA processing\n",
    "# Generate training split (X_train_scaled, X_test_scaled, y_train, y_test) with same split as Step 1.\n",
    "# Perform Logistic Regresssion on your training data (X_train_scaled, y_train)\n",
    "# Generate the score of your model (e.g. _scaled.score(X_test_scaled, y_test))\n",
    "\n",
    "# Initialize a standard scalar\n",
    "sc = StandardScaler()\n",
    "\n",
    "# Scale the original dataset features (X)\n",
    "X_scaled = sc.fit_transform(X)\n",
    "\n",
    "# Split the dataset into scaled train and test data.\n",
    "# Use the same split and random_state as the previous split.\n",
    "X_train_scaled, X_test_scaled, y_train, y_test = train_test_split(X_scaled, y,\n",
    "                                        test_size = 0.3,\n",
    "                                        shuffle = True,\n",
    "                                        random_state=random_state)\n",
    "\n",
    "# Train the model using Logistic Regression.  Set the max iterations to 5000.\n",
    "# Hint: initialize the logistic regression reference and run the fit funciton.\n",
    "log_reg_scaled = LogisticRegression()\n",
    "log_reg_scaled.fit(X_train_scaled, y_train)\n",
    "\n",
    "#Record the score\n",
    "log_reg_scaled_score = log_reg_scaled.score(X_test_scaled, y_test)\n",
    "print('Logistic regression model score on SCALED dataset (all features):', log_reg_scaled_score)\n",
    "\n",
    "\n",
    "#For verification purposes - do not change code below this line.\n",
    "import doctest\n",
    "\n",
    "\"\"\"\n",
    "  >>> np.isclose(log_reg_scaled_score, 0.9824561403508771, atol=1e-03)\n",
    "  True\n",
    "\"\"\"\n",
    "\n",
    "doctest.testmod()"
   ]
  },
  {
   "cell_type": "markdown",
   "id": "d9e5c8e9",
   "metadata": {
    "id": "el09jiLj0BWl"
   },
   "source": [
    "**Step 4:**   \n",
    "Perform PCA keeping all components.\n",
    "-   Make sure to perform PCA using the scaled data\n",
    "-   https://scikit-learn.org/stable/modules/generated/sklearn.decomposition.PCA.html#sklearn.decomposition.PCA\n",
    "-   https://scikit-learn.org/stable/modules/generated/sklearn.decomposition.PCA.html#sklearn.decomposition.PCA.fit"
   ]
  },
  {
   "cell_type": "code",
   "execution_count": 8,
   "id": "24f0d1b5",
   "metadata": {},
   "outputs": [
    {
     "name": "stdout",
     "output_type": "stream",
     "text": [
      "Explained variance: [4.42720256e-01 1.89711820e-01 9.39316326e-02 6.60213492e-02\n",
      " 5.49576849e-02 4.02452204e-02 2.25073371e-02 1.58872380e-02\n",
      " 1.38964937e-02 1.16897819e-02 9.79718988e-03 8.70537901e-03\n",
      " 8.04524987e-03 5.23365745e-03 3.13783217e-03 2.66209337e-03\n",
      " 1.97996793e-03 1.75395945e-03 1.64925306e-03 1.03864675e-03\n",
      " 9.99096464e-04 9.14646751e-04 8.11361259e-04 6.01833567e-04\n",
      " 5.16042379e-04 2.72587995e-04 2.30015463e-04 5.29779290e-05\n",
      " 2.49601032e-05 4.43482743e-06]\n",
      "**********************************************************************\n",
      "File \"__main__\", line 3, in __main__\n",
      "Failed example:\n",
      "    np.isclose(pca.explained_variance_ratio_[0], 0.44272025607526366, atol=1e-03)\n",
      "Expected:\n",
      "    True\n",
      "Got:\n",
      "    np.True_\n",
      "**********************************************************************\n",
      "File \"__main__\", line 5, in __main__\n",
      "Failed example:\n",
      "    np.isclose(pca.explained_variance_ratio_[14], 0.0031378321676274047, atol=1e-03)\n",
      "Expected:\n",
      "    True\n",
      "Got:\n",
      "    np.True_\n",
      "**********************************************************************\n",
      "File \"__main__\", line 7, in __main__\n",
      "Failed example:\n",
      "    np.isclose(pca.explained_variance_ratio_[29], 4.434827427363563e-06, atol=1e-03)\n",
      "Expected:\n",
      "    True\n",
      "Got:\n",
      "    np.True_\n",
      "**********************************************************************\n",
      "1 items had failures:\n",
      "   3 of   3 in __main__\n",
      "***Test Failed*** 3 failures.\n"
     ]
    },
    {
     "data": {
      "text/plain": [
       "TestResults(failed=3, attempted=3)"
      ]
     },
     "execution_count": 8,
     "metadata": {},
     "output_type": "execute_result"
    }
   ],
   "source": [
    "# Step 4:\n",
    "\n",
    "# Perform PCA keeping all components.\n",
    "# Hint use 'None\" to keep all components\n",
    "\n",
    "#components = None\n",
    "pca = PCA(n_components=None)\n",
    "\n",
    "# Perform PCA on the SCALED data, keeping all components\n",
    "pca.fit(X_scaled)\n",
    "print('Explained variance:', pca.explained_variance_ratio_)\n",
    "\n",
    "\n",
    "#For verification purposes - do not change code below this line.\n",
    "import doctest\n",
    "\n",
    "\"\"\"\n",
    "  >>> np.isclose(pca.explained_variance_ratio_[0], 0.44272025607526366, atol=1e-03)\n",
    "  True\n",
    "  >>> np.isclose(pca.explained_variance_ratio_[14], 0.0031378321676274047, atol=1e-03)\n",
    "  True\n",
    "  >>> np.isclose(pca.explained_variance_ratio_[29], 4.434827427363563e-06, atol=1e-03)\n",
    "  True\n",
    "\"\"\"\n",
    "\n",
    "doctest.testmod()"
   ]
  },
  {
   "cell_type": "markdown",
   "id": "c16fc669",
   "metadata": {
    "id": "aA4ec8eyF1al"
   },
   "source": [
    "**Step 5:**   \n",
    "\n",
    "Generate the explained variances and generate a Scree plot to view cumulative variances\n",
    "-  Interpret the results in the following text cell.\n",
    "-  How much data variability does the 1st PC capture?\n",
    "-  How much data variability does the 1st + 2nd PCs capture?\n",
    "-  Hint:  https://scikit-learn.org/stable/modules/generated/sklearn.decomposition.PCA.html\n",
    "-  Hint:  https://numpy.org/doc/2.1/reference/generated/numpy.cumsum.html\n",
    "-  Hint:  https://seaborn.pydata.org/generated/seaborn.barplot.html\n",
    "-  Hint:  https://seaborn.pydata.org/generated/seaborn.lineplot.html\n",
    "\n"
   ]
  },
  {
   "cell_type": "code",
   "execution_count": 9,
   "id": "fa9f6d99",
   "metadata": {},
   "outputs": [
    {
     "name": "stdout",
     "output_type": "stream",
     "text": [
      "Variances (percentage): [4.42720256e+01 1.89711820e+01 9.39316326e+00 6.60213492e+00\n",
      " 5.49576849e+00 4.02452204e+00 2.25073371e+00 1.58872380e+00\n",
      " 1.38964937e+00 1.16897819e+00 9.79718988e-01 8.70537901e-01\n",
      " 8.04524987e-01 5.23365745e-01 3.13783217e-01 2.66209337e-01\n",
      " 1.97996793e-01 1.75395945e-01 1.64925306e-01 1.03864675e-01\n",
      " 9.99096464e-02 9.14646751e-02 8.11361259e-02 6.01833567e-02\n",
      " 5.16042379e-02 2.72587995e-02 2.30015463e-02 5.29779290e-03\n",
      " 2.49601032e-03 4.43482743e-04]\n",
      "Cumulative Variances (percentage): [ 44.27202561  63.24320765  72.63637091  79.23850582  84.73427432\n",
      "  88.75879636  91.00953007  92.59825387  93.98790324  95.15688143\n",
      "  96.13660042  97.00713832  97.81166331  98.33502905  98.64881227\n",
      "  98.91502161  99.1130184   99.28841435  99.45333965  99.55720433\n",
      "  99.65711397  99.74857865  99.82971477  99.88989813  99.94150237\n",
      "  99.96876117  99.99176271  99.99706051  99.99955652 100.        ]\n"
     ]
    },
    {
     "data": {
      "image/png": "[encoded data removed]",
      "text/plain": [
       "<Figure size 2000x700 with 1 Axes>"
      ]
     },
     "metadata": {},
     "output_type": "display_data"
    },
    {
     "name": "stdout",
     "output_type": "stream",
     "text": [
      "**********************************************************************\n",
      "File \"__main__\", line 3, in __main__\n",
      "Failed example:\n",
      "    np.isclose(pca_explained_var_ratio_percentage[0], 4.42720256e+01, atol=1e-03)\n",
      "Expected:\n",
      "    True\n",
      "Got:\n",
      "    np.True_\n",
      "**********************************************************************\n",
      "File \"__main__\", line 5, in __main__\n",
      "Failed example:\n",
      "    np.isclose(pca_explained_var_ratio_percentage[29], 4.43482743e-04, atol=1e-03)\n",
      "Expected:\n",
      "    True\n",
      "Got:\n",
      "    np.True_\n",
      "**********************************************************************\n",
      "File \"__main__\", line 7, in __main__\n",
      "Failed example:\n",
      "    np.isclose(pca_cumulative_var_ratio_percentage[2], 72.63637091, atol=1e-03)\n",
      "Expected:\n",
      "    True\n",
      "Got:\n",
      "    np.True_\n",
      "**********************************************************************\n",
      "File \"__main__\", line 9, in __main__\n",
      "Failed example:\n",
      "    np.isclose(pca_cumulative_var_ratio_percentage[25], 99.96876117, atol=1e-03)\n",
      "Expected:\n",
      "    True\n",
      "Got:\n",
      "    np.True_\n",
      "**********************************************************************\n",
      "1 items had failures:\n",
      "   4 of   4 in __main__\n",
      "***Test Failed*** 4 failures.\n"
     ]
    },
    {
     "data": {
      "text/plain": [
       "TestResults(failed=4, attempted=4)"
      ]
     },
     "execution_count": 9,
     "metadata": {},
     "output_type": "execute_result"
    }
   ],
   "source": [
    "# Step 5.\n",
    "\n",
    "# Generate the explained variances and generate a Scree plot to view cumulative variances\n",
    "\n",
    "# Generate explained variance ratio as a percentage.\n",
    "pca_explained_var_ratio_percentage = pca.explained_variance_ratio_ * 100\n",
    "print('Variances (percentage):', pca_explained_var_ratio_percentage)\n",
    "\n",
    "# Generate cumulative variance ratios as a percentage.\n",
    "pca_cumulative_var_ratio_percentage = np.cumsum(pca_explained_var_ratio_percentage)\n",
    "print('Cumulative Variances (percentage):', pca_cumulative_var_ratio_percentage)\n",
    "\n",
    "\n",
    "# Create a Scree Plot\n",
    "# You may use the following code to generate your plot\n",
    "PC_components = np.arange(pca.n_components_) + 1\n",
    "sns.set(style='whitegrid', font_scale=1.2)\n",
    "plt.subplots(figsize=(20, 7))\n",
    "sns.barplot(x=PC_components, y=pca.explained_variance_ratio_, color='b')\n",
    "sns.lineplot(x=PC_components-1, y=np.cumsum(pca.explained_variance_ratio_), color='black', linestyle='-', linewidth=2, marker='o', markersize=8)\n",
    "plt.title('Scree Plot')\n",
    "plt.xlabel('N-th Principal Component')\n",
    "plt.ylabel('Variance Explained')\n",
    "plt.ylim(0, 1)\n",
    "plt.show()\n",
    "\n",
    "\n",
    "\n",
    "#For verification purposes - do not change code below this line.\n",
    "import doctest\n",
    "\n",
    "\"\"\"\n",
    "  >>> np.isclose(pca_explained_var_ratio_percentage[0], 4.42720256e+01, atol=1e-03)\n",
    "  True\n",
    "  >>> np.isclose(pca_explained_var_ratio_percentage[29], 4.43482743e-04, atol=1e-03)\n",
    "  True\n",
    "  >>> np.isclose(pca_cumulative_var_ratio_percentage[2], 72.63637091, atol=1e-03)\n",
    "  True\n",
    "  >>> np.isclose(pca_cumulative_var_ratio_percentage[25], 99.96876117, atol=1e-03)\n",
    "  True\n",
    "\"\"\"\n",
    "\n",
    "doctest.testmod()"
   ]
  },
  {
   "cell_type": "markdown",
   "id": "6efbfe7f",
   "metadata": {
    "id": "QA2aOtCtSqpM"
   },
   "source": [
    "**Step 6:**   \n",
    "\n",
    "- Apply PCA with explained variance percentage (70%, 80%, 90%)\n",
    "- How many PCs were retained for each of the explained variances?\n",
    "- Note, you will need to rerun PCA with the n_components parameter set.\n",
    "- Hint:  https://scikit-learn.org/stable/modules/generated/sklearn.decomposition.PCA.html"
   ]
  },
  {
   "cell_type": "code",
   "execution_count": 11,
   "id": "df85e404",
   "metadata": {},
   "outputs": [
    {
     "name": "stdout",
     "output_type": "stream",
     "text": [
      "Number of PCs retained for each explained variance: [np.int64(3), np.int64(5), np.int64(7)]\n"
     ]
    },
    {
     "data": {
      "text/plain": [
       "TestResults(failed=0, attempted=3)"
      ]
     },
     "execution_count": 11,
     "metadata": {},
     "output_type": "execute_result"
    }
   ],
   "source": [
    "# Step 6:\n",
    "\n",
    "# Apply PCA with explained variance percentage (70%, 80%, 90%)\n",
    "# How many PCs were retained for each of the explained variances?\n",
    "# Note, you will need to rerun PCA with the n_components parameter set.\n",
    "# Print the pca components_ to observe the importance each feature contributes to each of the PCs.\n",
    "# Hint:  https://scikit-learn.org/stable/modules/generated/sklearn.decomposition.PCA.html\n",
    "\n",
    "\n",
    "# Setup n_components list with test percentages\n",
    "n_components = [0.70, 0.80, 0.90]\n",
    "\n",
    "# Init an empty list to store the number of Principal Components (PCs) retained.\n",
    "pca_num_components = []\n",
    "\n",
    "# Loop through all test conditions and train the PCA model.\n",
    "# Store the number of PCs retained for each test condition in pca_num_components.\n",
    "for i in n_components:\n",
    "  pca = PCA(n_components=i)\n",
    "  pca.fit(X_train_scaled)\n",
    "  pca_num_components.append(pca.n_components_)\n",
    "\n",
    "print('Number of PCs retained for each explained variance:', pca_num_components)\n",
    "\n",
    "\n",
    "#For verification purposes - do not change code below this line.\n",
    "import doctest\n",
    "\n",
    "\"\"\"\n",
    "  >>> print(int(pca_num_components[0]))\n",
    "  3\n",
    "  >>> print(int(pca_num_components[1]))\n",
    "  5\n",
    "  >>> print(int(pca_num_components[2]))\n",
    "  7\n",
    "\"\"\"\n",
    "\n",
    "doctest.testmod()"
   ]
  },
  {
   "cell_type": "markdown",
   "id": "e6cd60de",
   "metadata": {
    "id": "-v_tUejSN4ns"
   },
   "source": [
    "**Step 9:**.  \n",
    " Transform the original scaled features into K PCs to retain AT LEAST 95% cumulative explained variance.\n",
    " Then rerun logistic regression on the reduced dataset.  \n",
    " Hint:  https://scikit-learn.org/stable/modules/generated/sklearn.decomposition.PCA.html#sklearn.decomposition.PCA.transform\n",
    "\n"
   ]
  },
  {
   "cell_type": "code",
   "execution_count": 13,
   "id": "e792d40a",
   "metadata": {},
   "outputs": [
    {
     "name": "stdout",
     "output_type": "stream",
     "text": [
      "Number of retained PCs: 10\n",
      "(569, 10)\n",
      "[[ 8.89142226  2.85709736 -1.59545501 ...  0.29344042  0.16900763\n",
      "  -1.11056824]\n",
      " [ 2.64367714 -3.42934081 -0.77475479 ... -0.29833978  1.01769231\n",
      "   0.44044061]\n",
      " [ 5.75141919 -0.49087436 -0.60506353 ... -0.11451378  0.05409256\n",
      "   0.42144914]\n",
      " ...\n",
      " [ 1.40775479 -1.78218653  1.10871546 ... -0.59568962 -0.39216929\n",
      "   0.73385966]\n",
      " [10.23772742  2.5086675  -0.97804441 ...  0.64681721  0.55956386\n",
      "   0.12672673]\n",
      " [-5.48431229 -1.2085518   1.64247356 ... -1.38796123  0.22480948\n",
      "  -0.47674518]]\n",
      "Logistic regression model score on transformed dataset: 0.9766081871345029\n",
      "**********************************************************************\n",
      "File \"__main__\", line 5, in __main__\n",
      "Failed example:\n",
      "    np.isclose(log_reg_pca_score, 0.9766081871345029, atol=1e-03)\n",
      "Expected:\n",
      "    True\n",
      "Got:\n",
      "    np.True_\n",
      "**********************************************************************\n",
      "1 items had failures:\n",
      "   1 of   2 in __main__\n",
      "***Test Failed*** 1 failures.\n"
     ]
    },
    {
     "data": {
      "text/plain": [
       "TestResults(failed=1, attempted=2)"
      ]
     },
     "execution_count": 13,
     "metadata": {},
     "output_type": "execute_result"
    }
   ],
   "source": [
    "# Step 9:\n",
    "# Transform the original scaled features into K PCs to retain AT LEAST 95% cumulative explained variance,\n",
    "# then rerun logistic regression on the reduced dataset.\n",
    "\n",
    "\n",
    "# Initialize PCA reference with at least 95% cumulative explained variance.\n",
    "pca = PCA(n_components=0.95)\n",
    "pca.fit(X_train_scaled)\n",
    "pca_num_components = pca.n_components_\n",
    "print('Number of retained PCs:', pca_num_components)\n",
    "\n",
    "\n",
    "# Transform original SCALED features into K PCs\n",
    "X_pca = pca.transform(X_scaled)\n",
    "print(X_pca.shape)\n",
    "print(X_pca)\n",
    "\n",
    "#Rerun Logistic regression with reduced feature set\n",
    "#    Use the transformed independent variables, and use the original y\n",
    "#    Use the same train/test split as previous.\n",
    "#    Generate training split (X_train_pca, X_test_pca, y_train, y_test)\n",
    "#    Perform Logistic Regresssion using (X_train_scaled, y_train)\n",
    "#    Generate score (e.g. _pca.score(X_test_pca, y_test))\n",
    "X_train_pca, X_test_pca, y_train, y_test =  train_test_split(X_pca, y,\n",
    "                                        test_size = 0.3,\n",
    "                                        shuffle = True,\n",
    "                                        random_state=random_state)\n",
    "log_reg_pca = LogisticRegression()\n",
    "log_reg_pca.fit(X_train_pca, y_train)\n",
    "\n",
    "# Evaluate the model\n",
    "log_reg_pca_score = log_reg_pca.score(X_test_pca, y_test)\n",
    "print('Logistic regression model score on transformed dataset:', log_reg_pca_score)\n",
    "\n",
    "\n",
    "\n",
    "#For verification purposes - do not change code below this line.\n",
    "import doctest\n",
    "\n",
    "\"\"\"\n",
    "  >>> print(pca_num_components)\n",
    "  10\n",
    "  >>> np.isclose(log_reg_pca_score, 0.9766081871345029, atol=1e-03)\n",
    "  True\n",
    "\n",
    "\"\"\"\n",
    "\n",
    "doctest.testmod()"
   ]
  },
  {
   "cell_type": "markdown",
   "id": "0eac871c",
   "metadata": {
    "id": "AtduEn4UXaLP"
   },
   "source": [
    "#Reflection questions:   \n",
    "\n",
    "Review your notebook results and answer the following reflection questions:   \n",
    "\n",
    "1. In the notebook, you should have observed that 3 principal components could explain approximately 70% of the variance in the breast cancer dataset which originally had 30 features. Explain why this dimensionality reduction is significant from both a computational and interpretability perspective. How might this impact your approach to similar high-dimensional medical datasets?\n",
    "2. The notebook should have demonstrated that using PCA to retain about 95% of the variance (10 principal components) resulted in a classification accuracy of over 97%, compared to about 98% with all 30 original features. Discuss this trade-off between dimensionality reduction and model performance. What factors would you consider when deciding whether this reduction is worthwhile in a real-world medical diagnosis application?\n",
    "3. When examining the results from Steps 5 and 6, you should have observed diminishing returns in the explained variance as more principal components were added. The first principal component should have explained over 44% of the variance, while later components contributed much less. Explain what this pattern tells you about the underlying structure of the breast cancer dataset, and how you might use this information when building predictive models for similar biomedical applications."
   ]
  }
 ],
 "metadata": {
  "kernelspec": {
   "display_name": "Python 3",
   "language": "python",
   "name": "python3"
  },
  "language_info": {
   "codemirror_mode": {
    "name": "ipython",
    "version": 3
   },
   "file_extension": ".py",
   "mimetype": "text/x-python",
   "name": "python",
   "nbconvert_exporter": "python",
   "pygments_lexer": "ipython3",
   "version": "3.9.6"
  }
 },
 "nbformat": 4,
 "nbformat_minor": 5
}
