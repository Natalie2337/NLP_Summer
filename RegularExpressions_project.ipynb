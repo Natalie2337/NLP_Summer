{
 "cells": [
  {
   "cell_type": "markdown",
   "id": "14725ec0",
   "metadata": {
    "id": "IDPL7ZJMjjZE"
   },
   "source": [
    "**Copyright: © NexStream Technical Education, LLC**.  \n",
    "All rights reserved"
   ]
  },
  {
   "cell_type": "markdown",
   "id": "273032f3",
   "metadata": {
    "id": "welcome"
   },
   "source": [
    "# Regular Expressions Data Cleaning\n",
    "\n",
    "In this assignment, you will implement a Python function which can be used in a sentiment analyzer to clean a dataset using regular expressions.\n",
    "\n",
    "\n",
    "\n"
   ]
  },
  {
   "cell_type": "markdown",
   "id": "45882fb2",
   "metadata": {
    "id": "jOBlUyPpkx02"
   },
   "source": [
    "**Introduction - Regular Expressions**\n",
    "\n",
    "\n",
    "Resources and References\n",
    "- Python Regular Expression Documentation: https://docs.python.org/3/library/re.html\n",
    "\n",
    "- Regular Expression Testing Tools  \n",
    "  - regex101.com\n",
    "  - pythex.org\n",
    "\n",
    "- Best Practices Documentation\n",
    "  - PEP 8 Style Guide\n",
    "  - Google Python Style Guide\n"
   ]
  },
  {
   "cell_type": "code",
   "execution_count": 1,
   "id": "8e78b73a",
   "metadata": {},
   "outputs": [],
   "source": [
    "#Import libraries\n",
    "\n",
    "import re\n",
    "import regex"
   ]
  },
  {
   "cell_type": "markdown",
   "id": "e29a85f9",
   "metadata": {
    "id": "YJyMoeFMOFHZ"
   },
   "source": [
    "Create a function that preprocesses a text string according to the following specifications:   \n",
    "- Remove all HTML tags (i.e. remove character sequences delimited by the '<' and '>' characters)\n",
    "- Remove all URL tags (i.e. remove any 'http' or 'https' designations)\n",
    "- Removes any character not in the English alphabet or a decimal digit (i.e. remove any characters not a-z, A-Z, 0-9)\n",
    "- Remove any extra whitespace\n",
    "- Converts all strings to lower case\n",
    "\n",
    "Use the following function API:\n",
    "\n",
    "    \n",
    "    def preprocess_review(text):\n",
    "\n",
    "    \"\"\"\n",
    "        Parameters:\n",
    "        -----------\n",
    "        text : input text string to clean\n",
    "\n",
    "        Returns:\n",
    "        -----------\n",
    "        text : the cleaned text string\n",
    "    \n",
    "    \"\"\""
   ]
  },
  {
   "cell_type": "code",
   "execution_count": 2,
   "id": "24fc046c",
   "metadata": {},
   "outputs": [],
   "source": [
    "def preprocess_review(text):\n",
    "    # Remove HTML\n",
    "    #text =  r'<[^>]+>'\n",
    "    text = re.sub(r'<[^>]+>','', text)\n",
    "\n",
    "    # Remove URLs\n",
    "    #text = r'http[s]?://(?:[a-zA-Z]|[0-9]|[$-_@.&+]|[!*\\\\(\\\\),]|(?:%[0-9a-fA-F][0-9a-fA-F]))+'\n",
    "    text = re.sub(r'http[s]?://(?:[a-zA-Z]|[0-9]|[$-_@.&+]|[!*(),]|(?:%[0-9a-fA-F][0-9a-fA-F]))+','', text)\n",
    "\n",
    "    # Remove special characters\n",
    "    text = re.sub(r'[^a-zA-Z0-9\\s]','',text)\n",
    "\n",
    "    # Convert to lowercase\n",
    "    text = text.lower()\n",
    "\n",
    "    # Remove extra whitespace\n",
    "    #text = re.sub(r'\\s+',' ', text)\n",
    "    text = re.sub(r'\\s+',' ', text).strip()\n",
    "\n",
    "    return text"
   ]
  },
  {
   "cell_type": "code",
   "execution_count": 3,
   "id": "4a468905",
   "metadata": {},
   "outputs": [
    {
     "name": "stdout",
     "output_type": "stream",
     "text": [
      "Test Case 1:\n",
      "Original: <p>Great product!</p> &#128516;\n",
      "Cleaned: great product 128516\n",
      "--------------------------------------------------\n",
      "\n",
      "Test Case 2:\n",
      "Original: Check it out at https://example.com and www.test.com\n",
      "Cleaned: check it out at and wwwtestcom\n",
      "--------------------------------------------------\n",
      "\n",
      "Test Case 3:\n",
      "Original: Product ID: AB1234 - 5* rating!!!\n",
      "Cleaned: product id ab1234 5 rating\n",
      "--------------------------------------------------\n",
      "\n",
      "Test Case 4:\n",
      "Original: EXCELLENT    product...   very   HAPPY :)\n",
      "Cleaned: excellent product very happy\n",
      "--------------------------------------------------\n",
      "\n",
      "Test Case 5:\n",
      "Original: Size: 10.5cm x 20cm - Perfect fit!\n",
      "Cleaned: size 105cm x 20cm perfect fit\n",
      "--------------------------------------------------\n",
      "\n",
      "Test Case 6:\n",
      "Original: Contact support@company.com or call 123-456-7890\n",
      "Cleaned: contact supportcompanycom or call 1234567890\n",
      "--------------------------------------------------\n",
      "\n",
      "Test Case 7:\n",
      "Original: Purchased on 2024-01-15 12:30PM EST\n",
      "Cleaned: purchased on 20240115 1230pm est\n",
      "--------------------------------------------------\n",
      "\n",
      "Test Case 8:\n",
      "Original: Product Review:\n",
      "\n",
      "    Quality: Excellent\n",
      "    Durability: Good\n",
      "    Value: 4/5\n",
      "\n",
      "    Would recommend!\n",
      "Cleaned: product review quality excellent durability good value 45 would recommend\n",
      "--------------------------------------------------\n",
      "\n",
      "Cleaned text:\n",
      " ['great product 128516', 'check it out at and wwwtestcom', 'product id ab1234 5 rating', 'excellent product very happy', 'size 105cm x 20cm perfect fit', 'contact supportcompanycom or call 1234567890', 'purchased on 20240115 1230pm est', 'product review quality excellent durability good value 45 would recommend']\n"
     ]
    },
    {
     "data": {
      "text/plain": [
       "TestResults(failed=0, attempted=8)"
      ]
     },
     "execution_count": 3,
     "metadata": {},
     "output_type": "execute_result"
    }
   ],
   "source": [
    "#Test cases\n",
    "#Do not change the code in this cell - for validation purposes.\n",
    "\n",
    "\n",
    "test_cases = [\n",
    "    # HTML and special characters\n",
    "    \"<p>Great product!</p> &#128516;\",\n",
    "\n",
    "    # URLs and links\n",
    "    \"Check it out at https://example.com and www.test.com\",\n",
    "\n",
    "    # Product IDs and ratings\n",
    "    \"Product ID: AB1234 - 5* rating!!!\",\n",
    "\n",
    "    # Mixed case and extra whitespace\n",
    "    \"EXCELLENT    product...   very   HAPPY :)\",\n",
    "\n",
    "    # Numbers and measurements\n",
    "    \"Size: 10.5cm x 20cm - Perfect fit!\",\n",
    "\n",
    "    # Email addresses and contact info\n",
    "    \"Contact support@company.com or call 123-456-7890\",\n",
    "\n",
    "    # Dates and timestamps\n",
    "    \"Purchased on 2024-01-15 12:30PM EST\",\n",
    "\n",
    "    # Multiple line breaks and formatting\n",
    "    \"\"\"Product Review:\n",
    "\n",
    "    Quality: Excellent\n",
    "    Durability: Good\n",
    "    Value: 4/5\n",
    "\n",
    "    Would recommend!\"\"\"\n",
    "]\n",
    "\n",
    "def test_preprocessing(test_cases):\n",
    "    cleaned = []\n",
    "    for i, text in enumerate(test_cases, 1):\n",
    "        cleaned.append(preprocess_review(text))\n",
    "        print(f\"Test Case {i}:\")\n",
    "        print(f\"Original: {text}\")\n",
    "        print(f\"Cleaned: {cleaned[-1]}\")\n",
    "        print(\"-\" * 50 + \"\\n\")\n",
    "    return cleaned\n",
    "\n",
    "# Run tests\n",
    "cleaned_text = test_preprocessing(test_cases)\n",
    "print('Cleaned text:\\n', cleaned_text)\n",
    "\n",
    "\n",
    "\n",
    "import doctest\n",
    "'''\n",
    "  >>> print(cleaned_text[0])\n",
    "  great product 128516\n",
    "  >>> print(cleaned_text[1])\n",
    "  check it out at and wwwtestcom\n",
    "  >>> print(cleaned_text[2])\n",
    "  product id ab1234 5 rating\n",
    "  >>> print(cleaned_text[3])\n",
    "  excellent product very happy\n",
    "  >>> print(cleaned_text[4])\n",
    "  size 105cm x 20cm perfect fit\n",
    "  >>> print(cleaned_text[5])\n",
    "  contact supportcompanycom or call 1234567890\n",
    "  >>> print(cleaned_text[6])\n",
    "  purchased on 20240115 1230pm est\n",
    "  >>> print(cleaned_text[7])\n",
    "  product review quality excellent durability good value 45 would recommend\n",
    "'''\n",
    "\n",
    "doctest.testmod()"
   ]
  },
  {
   "cell_type": "markdown",
   "id": "1d880c1f",
   "metadata": {},
   "source": [
    "- Reflections\n",
    "\n",
    "1. What metacharacters represent any character except newlines, start of strings, end of strings, and escape special characters?\n",
    "\n",
    "​\t `.` is used to match a single character; `^` is used to match the start of a string;`$` is used to match the end of a string; `\\`  is \tused to escape special characters, making other metacharacters like  `.` lose their special meaning in matching.\n",
    "\n",
    "2. What characters are used to delimit matching letters or digits?\n",
    "\n",
    "   The square brackets `[]` is used to match the single characters inside the brackets. For example, `[a-z]` is used to match all lower-case letters while `[0-9]` is used to match all single digits. What's more, `\\d`can also be used to match any digit while `\\w` can be used to match all kinds of letters and digits.\n",
    "\n",
    "3. What is the difference between \"greedy\" and \"non-greedy\" matching?\n",
    "\n",
    "​\tGreedy matching means to match as much as possible, while non-greedy matching means to stop when the first match happens."
   ]
  }
 ],
 "metadata": {
  "kernelspec": {
   "display_name": "Python 3",
   "language": "python",
   "name": "python3"
  },
  "language_info": {
   "codemirror_mode": {
    "name": "ipython",
    "version": 3
   },
   "file_extension": ".py",
   "mimetype": "text/x-python",
   "name": "python",
   "nbconvert_exporter": "python",
   "pygments_lexer": "ipython3",
   "version": "3.9.6"
  }
 },
 "nbformat": 4,
 "nbformat_minor": 5
}
