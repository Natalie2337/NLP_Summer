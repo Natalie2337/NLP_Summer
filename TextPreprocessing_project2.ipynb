{
 "cells": [
  {
   "cell_type": "markdown",
   "id": "a7156432",
   "metadata": {
    "id": "a7156432"
   },
   "source": [
    "**Copyright: © NexStream Technical Education, LLC**.  \n",
    "All rights reserved"
   ]
  },
  {
   "cell_type": "markdown",
   "id": "78023869",
   "metadata": {
    "id": "78023869"
   },
   "source": [
    "# Text preprocessing\n",
    "\n",
    "In this assignment, you will implement Python functions that can be used in a sentiment analyzer to preprocess a text dataset.\n",
    "\n",
    "\n",
    "\n"
   ]
  },
  {
   "cell_type": "markdown",
   "id": "583b73eb",
   "metadata": {
    "id": "583b73eb"
   },
   "source": [
    "**Environment Setup and Version Check:**    \n",
    "No coding required in the following code - just run this cell to set up your environment.\n",
    "\n",
    "- Verify Python environment and displays version information\n",
    "- Installs required Python packages\n",
    "- Downloads nltk resources\n",
    "- Imports necessary Python libraries\n"
   ]
  },
  {
   "cell_type": "code",
   "execution_count": 2,
   "id": "e8b0735f",
   "metadata": {
    "id": "e8b0735f"
   },
   "outputs": [
    {
     "name": "stdout",
     "output_type": "stream",
     "text": [
      "Python version: 3.9.6 (default, Feb  3 2024, 15:58:27) \n",
      "[Clang 15.0.0 (clang-1500.3.9.4)]\n",
      "NLTK version: 3.9.1\n",
      "\n",
      "Downloading required NLTK resources...\n",
      "Downloading punkt...\n",
      "Downloading punkt_tab...\n"
     ]
    },
    {
     "name": "stderr",
     "output_type": "stream",
     "text": [
      "[nltk_data] Downloading package punkt to /Users/hyh/nltk_data...\n",
      "[nltk_data]   Package punkt is already up-to-date!\n",
      "[nltk_data] Downloading package punkt_tab to /Users/hyh/nltk_data...\n",
      "[nltk_data]   Package punkt_tab is already up-to-date!\n",
      "[nltk_data] Downloading package averaged_perceptron_tagger to\n",
      "[nltk_data]     /Users/hyh/nltk_data...\n",
      "[nltk_data]   Package averaged_perceptron_tagger is already up-to-\n",
      "[nltk_data]       date!\n",
      "[nltk_data] Downloading package averaged_perceptron_tagger_eng to\n",
      "[nltk_data]     /Users/hyh/nltk_data...\n",
      "[nltk_data]   Package averaged_perceptron_tagger_eng is already up-to-\n",
      "[nltk_data]       date!\n",
      "[nltk_data] Downloading package wordnet to /Users/hyh/nltk_data...\n",
      "[nltk_data]   Package wordnet is already up-to-date!\n",
      "[nltk_data] Downloading package stopwords to /Users/hyh/nltk_data...\n",
      "[nltk_data]   Package stopwords is already up-to-date!\n",
      "[nltk_data] Downloading package omw-1.4 to /Users/hyh/nltk_data...\n",
      "[nltk_data]   Package omw-1.4 is already up-to-date!\n"
     ]
    },
    {
     "name": "stdout",
     "output_type": "stream",
     "text": [
      "Downloading averaged_perceptron_tagger...\n",
      "Downloading averaged_perceptron_tagger_eng...\n",
      "Downloading wordnet...\n",
      "Downloading stopwords...\n",
      "Downloading omw-1.4...\n",
      "\n",
      "Setup complete. Ready to process text.\n"
     ]
    }
   ],
   "source": [
    "import sys\n",
    "print(f\"Python version: {sys.version}\")\n",
    "\n",
    "# Import and setup NLTK\n",
    "import nltk\n",
    "print(f\"NLTK version: {nltk.__version__}\")\n",
    "\n",
    "print(\"\\nDownloading required NLTK resources...\")\n",
    "# Resources specifically needed for Python 3.11 in Colab\n",
    "resources = [\n",
    "    'punkt',\n",
    "    'punkt_tab',\n",
    "    'averaged_perceptron_tagger',\n",
    "    'averaged_perceptron_tagger_eng',  # Specifically needed for Python 3.11\n",
    "    'wordnet',\n",
    "    'stopwords',\n",
    "    'omw-1.4'\n",
    "]\n",
    "\n",
    "for resource in resources:\n",
    "    print(f\"Downloading {resource}...\")\n",
    "    nltk.download(resource)\n",
    "\n",
    "# Import other required libraries\n",
    "import pandas as pd\n",
    "import numpy as np\n",
    "import re\n",
    "from nltk.tokenize import word_tokenize, sent_tokenize\n",
    "from nltk.corpus import stopwords\n",
    "from nltk.stem import PorterStemmer, WordNetLemmatizer\n",
    "from nltk.tag import pos_tag\n",
    "import matplotlib.pyplot as plt\n",
    "import seaborn as sns\n",
    "\n",
    "print(\"\\nSetup complete. Ready to process text.\")"
   ]
  },
  {
   "cell_type": "markdown",
   "id": "a80102c6",
   "metadata": {
    "id": "a80102c6"
   },
   "source": [
    "**TextPreprocessor Class Definition**   \n",
    "\n",
    "The following defines the main text preprocessing class and all it's method API's.  \n",
    "A 'cheatsheet' of the common functions used in this assignment are also show in the following text cell.  \n",
    "Follow the instructions in the code cell to complete and test your code.  You will replace all triple underscores (___) with your code.\n",
    "<br>\n",
    "\n",
    "    class TextPreprocessor:\n",
    "\n",
    "    - def __init__(self):  \n",
    "      \"\"\"Initialize the text preprocessor with necessary tools\"\"\"\n",
    "        self.stemmer = PorterStemmer()\n",
    "        self.lemmatizer = WordNetLemmatizer()\n",
    "        self.stop_words = set(stopwords.words('english'))\n",
    "\n",
    "    - def normalize_text(self, text):   \n",
    "        \"\"\"\n",
    "        Normalize text by converting to lowercase, removing special characters,\n",
    "        and standardizing whitespace\n",
    "        Args:\n",
    "            text (str): Input text\n",
    "\n",
    "        Returns:\n",
    "            str: Normalized text\n",
    "        \"\"\"\n",
    "\n",
    "    - def tokenize_text(self, text):  \n",
    "        \"\"\"\n",
    "        Tokenize text into individual words\n",
    "        Args:\n",
    "            text (str): Input text\n",
    "\n",
    "        Returns:\n",
    "            list: List of tokens\n",
    "        \"\"\"\n",
    "\n",
    "    - def pos_tag_text(self, tokens):\n",
    "        \"\"\"\n",
    "        Perform POS tagging on tokens\n",
    "        Args:\n",
    "            tokens (list): List of tokens\n",
    "\n",
    "        Returns:\n",
    "            list: List of (token, pos_tag) tuples\n",
    "        \"\"\"\n",
    "\n",
    "    - def remove_stopwords(self, tokens):\n",
    "        \"\"\"\n",
    "        Remove stopwords from tokens\n",
    "        Args:\n",
    "            tokens (list): List of tokens\n",
    "\n",
    "        Returns:\n",
    "            list: List of tokens with stopwords removed\n",
    "        \"\"\"\n",
    "\n",
    "    - def stem_tokens(self, tokens):\n",
    "        \"\"\"\n",
    "        Apply stemming to tokens\n",
    "        Args:\n",
    "            tokens (list): List of tokens\n",
    "\n",
    "        Returns:\n",
    "            list: List of stemmed tokens\n",
    "        \"\"\"\n",
    "\n",
    "    - def lemmatize_with_pos(self, tagged_tokens):\n",
    "        \"\"\"\n",
    "        Lemmatize tokens using POS information\n",
    "        Args:\n",
    "            tagged_tokens (list): List of (token, pos_tag) tuples\n",
    "\n",
    "        Returns:\n",
    "            list: List of lemmatized tokens\n",
    "        \"\"\"\n",
    "\n",
    "    - def preprocess_text(self, text, use_stemming=False):\n",
    "        \"\"\"\n",
    "        Complete preprocessing pipeline\n",
    "        Args:\n",
    "            text (str): Input text\n",
    "            use_stemming (bool): Whether to use stemming instead of lemmatization\n",
    "\n",
    "        Returns:\n",
    "            dict: Dictionary containing results from each preprocessing step\n",
    "        \"\"\"\n",
    "\n",
    "    - def analyze_pos_distribution(self, texts):  \n",
    "        \"\"\"\n",
    "        Analyze POS tag distribution in a collection of texts\n",
    "        Args:\n",
    "            texts (list): List of input texts\n",
    "\n",
    "        Returns:\n",
    "            dict: POS tag distribution\n",
    "        \"\"\"\n",
    "\n"
   ]
  },
  {
   "cell_type": "markdown",
   "id": "700744d9",
   "metadata": {
    "id": "700744d9"
   },
   "source": [
    "**NLTK Cheatsheet - Common Functions and Classes**   \n",
    "The following references and usage examples provide hints that can be used to complete the coding assignment.   \n",
    "\n",
    "Official Documentation References\n",
    "- NLTK Book: https://www.nltk.org/book/\n",
    "- API Documentation: https://www.nltk.org/api/nltk.html\n",
    "\n",
    "Key Module References\n",
    "- Tokenizers: https://www.nltk.org/api/nltk.tokenize.html\n",
    "- Stop Words: https://www.nltk.org/api/nltk.corpus.html#module-nltk.corpus.stopwords\n",
    "- Porter Stemmer: https://www.nltk.org/api/nltk.stem.porter.html\n",
    "- WordNet Lemmatizer: https://www.nltk.org/api/nltk.stem.wordnet.html\n",
    "- POS Tagging: https://www.nltk.org/api/nltk.tag.html\n",
    "\n",
    "Usage Examples\n",
    "- Initial Setup\n",
    "      import nltk\n",
    "      from nltk.tokenize import word_tokenize, sent_tokenize\n",
    "      from nltk.corpus import stopwords\n",
    "      from nltk.stem import PorterStemmer, WordNetLemmatizer\n",
    "      from nltk.tag import pos_tag\n",
    "\n",
    "      # Download required NLTK data\n",
    "      nltk.download('punkt')           # For tokenization\n",
    "      nltk.download('stopwords')       # For stopwords\n",
    "      nltk.download('averaged_perceptron_tagger')  # For POS tagging\n",
    "      nltk.download('wordnet')         # For lemmatization\n",
    "\n",
    "- Tokenization\n",
    "  - Sentence Tokenization (sent_tokenize)   \n",
    "        # Split text into sentences\n",
    "        text = \"This is sentence one. This is sentence two! Are we done yet?\"\n",
    "        sentences = sent_tokenize(text)\n",
    "        # Result: ['This is sentence one.', 'This is sentence two!', 'Are we done yet?']\n",
    "\n",
    "        # Works with multiple languages\n",
    "        from nltk.tokenize import sent_tokenize\n",
    "        sentences = sent_tokenize(text, language='english')  # Default is English\n",
    "\n",
    "  - Word Tokenization (word_tokenize)   \n",
    "        # Split text into words\n",
    "        text = \"Let's break this sentence into words!\"\n",
    "        words = word_tokenize(text)\n",
    "        # Result: ['Let', \"'s\", 'break', 'this', 'sentence', 'into', 'words', '!']\n",
    "\n",
    "        # Handles contractions and punctuation\n",
    "        # More sophisticated than simple string.split()\n",
    "\n",
    "- Stop Words\n",
    "      # Get English stop words\n",
    "      stop_words = set(stopwords.words('english'))\n",
    "\n",
    "      # Check if a word is a stop word\n",
    "      word = \"the\"\n",
    "      is_stop = word in stop_words  # Returns True\n",
    "\n",
    "      # Remove stop words from text\n",
    "      text_tokens = word_tokenize(\"The quick brown fox jumps over the lazy dog\")\n",
    "      filtered_tokens = [word for word in text_tokens if word.lower() not in stop_words]\n",
    "      # Result: ['quick', 'brown', 'fox', 'jumps', 'lazy', 'dog']\n",
    "\n",
    "- Stemming with PorterStemmer\n",
    "      # Initialize stemmer\n",
    "      ps = PorterStemmer()\n",
    "\n",
    "      # Single word stemming\n",
    "      ps.stem('running')     # Result: 'run'\n",
    "      ps.stem('happiness')   # Result: 'happi'\n",
    "      ps.stem('artificial')  # Result: 'artifici'\n",
    "\n",
    "      # Stem a list of words\n",
    "      words = ['running', 'runs', 'ran']\n",
    "      stemmed = [ps.stem(word) for word in words]\n",
    "      # Result: ['run', 'run', 'ran']\n",
    "\n",
    "      # Note: Stemming can produce non-dictionary words\n",
    "      # Focus is on consistent root form, not necessarily valid words\n",
    "\n",
    "- Lemmatization with WordNetLemmatizer\n",
    "      # Initialize lemmatizer\n",
    "      lemmatizer = WordNetLemmatizer()\n",
    "\n",
    "      # Basic lemmatization (defaults to noun)\n",
    "      lemmatizer.lemmatize('cities')     # Result: 'city'\n",
    "      lemmatizer.lemmatize('wolves')     # Result: 'wolf'\n",
    "\n",
    "      # Lemmatization with POS specification\n",
    "      # Common POS tags: 'n' (noun), 'v' (verb), 'a' (adjective), 'r' (adverb)\n",
    "      lemmatizer.lemmatize('better', pos='a')     # Result: 'good'\n",
    "      lemmatizer.lemmatize('running', pos='v')    # Result: 'run'\n",
    "      lemmatizer.lemmatize('running', pos='n')    # Result: 'running'\n",
    "\n",
    "      # Note: Lemmatization produces valid dictionary words\n",
    "      # More computationally intensive but linguistically accurate than stemming\n",
    "\n",
    "- Part of Speech (POS) Tagging\n",
    "      # Tag a sentence\n",
    "      text = \"The quick brown fox jumps over the lazy dog\"\n",
    "      tokens = word_tokenize(text)\n",
    "      tagged = pos_tag(tokens)\n",
    "      # Result: [('The', 'DT'), ('quick', 'JJ'), ('brown', 'JJ'), ('fox', 'NN'),\n",
    "      #          ('jumps', 'VBZ'), ('over', 'IN'), ('the', 'DT'), ('lazy', 'JJ'),\n",
    "      #          ('dog', 'NN')]\n",
    "\n",
    "      # Common POS Tags:\n",
    "      # CC: Coordinating conjunction    # IN: Preposition\n",
    "      # DT: Determiner                 # JJ: Adjective\n",
    "      # NN: Noun (singular)            # NNS: Noun (plural)\n",
    "      # RB: Adverb                     # VB: Verb (base form)\n",
    "      # VBD: Verb (past tense)         # VBG: Verb (gerund)\n",
    "      # VBN: Verb (past participle)    # VBP: Verb (present tense)\n",
    "      # VBZ: Verb (3rd person sing.)   # PRP: Personal pronoun\n"
   ]
  },
  {
   "cell_type": "code",
   "execution_count": 1,
   "id": "fc34daae",
   "metadata": {},
   "outputs": [],
   "source": [
    "\n",
    "class TextPreprocessor:\n",
    "  def __init__(self):\n",
    "    self.stemmer = PorterStemmer()\n",
    "    self.lemmatizer = WordNetLemmatizer() # Corrected variable name\n",
    "    self.stop_words = set(stopwords.words('english'))\n",
    "\n",
    "  def normalize_text(self, text):\n",
    "    text = text.lower()\n",
    "    text = re.sub(r'[^a-zA-Z0-9\\s]', '', text)\n",
    "    text = re.sub(r'\\s+', ' ', text).strip()\n",
    "    return text\n",
    "\n",
    "  def tokenize_text(self, text: str):\n",
    "        return word_tokenize(text)\n",
    "\n",
    "  def pos_tag_text(self, tokens):\n",
    "        return pos_tag(tokens)\n",
    "\n",
    "  def remove_stopwords(self, tokens):\n",
    "        return [w for w in tokens if w not in self.stop_words]\n",
    "\n",
    "  def stem_tokens(self, tokens):\n",
    "        \"\"\"Porter stemming\"\"\"\n",
    "        return [self.stemmer.stem(w) for w in tokens]\n",
    "\n",
    "  def lemmatize_with_pos(self, tagged_tokens):\n",
    "        lemmatized = []\n",
    "        for token, tag in tagged_tokens:\n",
    "            if tag.startswith(\"N\"):\n",
    "                pos = \"n\"\n",
    "            elif tag.startswith(\"V\"):\n",
    "                pos = \"v\"\n",
    "            elif tag.startswith(\"R\"):\n",
    "                pos = \"r\"\n",
    "            elif tag.startswith(\"J\"):\n",
    "                pos = \"a\"\n",
    "            else:\n",
    "                pos = \"n\"\n",
    "            lemmatized.append(self.lemmatizer.lemmatize(token, pos))\n",
    "        return lemmatized\n",
    "\n",
    "  def preprocess_text(self, text: str, use_stemming: bool = False):\n",
    "\n",
    "        results = {\n",
    "            \"original\": text,\n",
    "            \"normalized\": None,\n",
    "            \"tokenized\": None,\n",
    "            \"pos_tagged\": None,\n",
    "            \"no_stopwords\": None,\n",
    "            \"final\": None,\n",
    "        }\n",
    "\n",
    "        normalized = self.normalize_text(text)\n",
    "        results[\"normalized\"] = normalized\n",
    "\n",
    "        tokens = self.tokenize_text(normalized)           \n",
    "        results[\"tokenized\"] = tokens\n",
    "\n",
    "        tagged = self.pos_tag_text(tokens)                \n",
    "        results[\"pos_tagged\"] = tagged\n",
    "\n",
    "        cleaned_tokens = self.remove_stopwords(tokens)    \n",
    "        results[\"no_stopwords\"] = cleaned_tokens\n",
    "\n",
    "        if use_stemming:\n",
    "            final_tokens = self.stem_tokens(cleaned_tokens)\n",
    "        else:\n",
    "            tagged_cleaned = self.pos_tag_text(cleaned_tokens)\n",
    "            final_tokens = self.lemmatize_with_pos(tagged_cleaned)\n",
    "\n",
    "        results[\"final\"] = final_tokens\n",
    "        return results\n",
    "\n",
    "  def analyze_pos_distribution(self, texts):\n",
    "        pos_counts = {}\n",
    "        for text in texts:\n",
    "            normalized = self.normalize_text(text)\n",
    "            tokens = self.tokenize_text(normalized)\n",
    "            tagged = self.pos_tag_text(tokens)\n",
    "            for _, tag in tagged:\n",
    "                pos_counts[tag] = pos_counts.get(tag, 0) + 1\n",
    "        return pos_counts"
   ]
  },
  {
   "cell_type": "markdown",
   "id": "2a05e362",
   "metadata": {
    "id": "2a05e362"
   },
   "source": [
    "**Example Usage and Visualization**\n",
    "\n",
    "- Creates example product reviews for demonstration.  \n",
    "- Creates visualization of Parts of Speech distribution.\n",
    "- **DO NOT CHANGE THE FOLLOWING CELL - FOR VERIFICATION PURPOSES**\n"
   ]
  },
  {
   "cell_type": "code",
   "execution_count": 3,
   "id": "c2eb7034",
   "metadata": {
    "id": "c2eb7034"
   },
   "outputs": [
    {
     "name": "stdout",
     "output_type": "stream",
     "text": [
      "POS counts:\n",
      "       count\n",
      "CD        1\n",
      "PRP$      1\n",
      "JJS       1\n",
      "VBN       2\n",
      "VBG       2\n",
      "PRP       2\n",
      "NNS       2\n",
      "VBD       2\n",
      "VB        2\n",
      "VBZ       3\n",
      "CC        4\n",
      "DT        5\n",
      "IN        6\n",
      "RB        6\n",
      "JJ        7\n",
      "NN       13\n"
     ]
    },
    {
     "data": {
      "text/plain": [
       "<Figure size 1200x600 with 0 Axes>"
      ]
     },
     "metadata": {},
     "output_type": "display_data"
    },
    {
     "data": {
      "image/png": "[encoded data removed]",
      "text/plain": [
       "<Figure size 640x480 with 1 Axes>"
      ]
     },
     "metadata": {},
     "output_type": "display_data"
    },
    {
     "data": {
      "text/plain": [
       "TestResults(failed=0, attempted=8)"
      ]
     },
     "execution_count": 3,
     "metadata": {},
     "output_type": "execute_result"
    }
   ],
   "source": [
    "# Sample product reviews\n",
    "reviews = [\n",
    "    \"This product is amazing! I've been using it for months and it works perfectly.\",\n",
    "    \"Terrible experience. The product broke after two days and customer service was unhelpful.\",\n",
    "    \"Good product but a bit expensive. The quality is great though.\",\n",
    "    \"Not worth the money. Save your cash and buy something else.\",\n",
    "    \"Best purchase ever! Highly recommended for anyone looking for quality.\"\n",
    "]\n",
    "\n",
    "# Create sample dataset\n",
    "df = pd.DataFrame({\n",
    "    'review_text': reviews,\n",
    "    'sentiment': [1, -1, 0, -1, 1]  # 1: positive, 0: neutral, -1: negative\n",
    "})\n",
    "\n",
    "# Initialize preprocessor\n",
    "preprocessor = TextPreprocessor()\n",
    "\n",
    "# Process a single review with both stemming and lemmatization for comparison\n",
    "sample_review = df['review_text'].iloc[0]\n",
    "results_stem = preprocessor.preprocess_text(sample_review, use_stemming=True)\n",
    "results_lem = preprocessor.preprocess_text(sample_review, use_stemming=False)\n",
    "\n",
    "\n",
    "\n",
    "# Analyze POS distribution\n",
    "pos_dist = preprocessor.analyze_pos_distribution(df['review_text'])\n",
    "\n",
    "# Visualize POS distribution\n",
    "plt.figure(figsize=(12, 6))\n",
    "pos_df = pd.DataFrame.from_dict(pos_dist, orient='index', columns=['count'])\n",
    "pos_df.sort_values('count', ascending=True).plot(kind='barh')\n",
    "print('POS counts:\\n', pos_df.sort_values('count', ascending=True))\n",
    "plt.title('Distribution of Parts of Speech in Reviews')\n",
    "plt.xlabel('Count')\n",
    "plt.ylabel('POS Tag')\n",
    "plt.tight_layout()\n",
    "plt.show()\n",
    "\n",
    "\n",
    "import doctest\n",
    "'''\n",
    "  >>> print(results_stem['original'])\n",
    "  This product is amazing! I've been using it for months and it works perfectly.\n",
    "  >>> print(results_stem['normalized'])\n",
    "  this product is amazing ive been using it for months and it works perfectly\n",
    "  >>> print(results_stem['tokenized'])\n",
    "  ['this', 'product', 'is', 'amazing', 'ive', 'been', 'using', 'it', 'for', 'months', 'and', 'it', 'works', 'perfectly']\n",
    "  >>> print(results_stem['pos_tagged'])\n",
    "  [('this', 'DT'), ('product', 'NN'), ('is', 'VBZ'), ('amazing', 'JJ'), ('ive', 'JJ'), ('been', 'VBN'), ('using', 'VBG'), ('it', 'PRP'), ('for', 'IN'), ('months', 'NNS'), ('and', 'CC'), ('it', 'PRP'), ('works', 'VBZ'), ('perfectly', 'RB')]\n",
    "  >>> print(results_stem['no_stopwords'])\n",
    "  ['product', 'amazing', 'ive', 'using', 'months', 'works', 'perfectly']\n",
    "  >>> print(results_stem['final'])\n",
    "  ['product', 'amaz', 'ive', 'use', 'month', 'work', 'perfectli']\n",
    "  >>> print(results_lem['final'])\n",
    "  ['product', 'amaze', 'ive', 'use', 'month', 'work', 'perfectly']\n",
    "  >>> print(pos_df.sort_values('count', ascending=True).to_numpy().flatten())\n",
    "  [ 1  1  1  2  2  2  2  2  2  3  4  5  6  6  7 13]\n",
    "'''\n",
    "doctest.testmod()"
   ]
  },
  {
   "cell_type": "markdown",
   "id": "172e3aa6",
   "metadata": {
    "id": "172e3aa6"
   },
   "source": [
    "**Processing Multiple Reviews**   \n",
    "\n",
    "Run the following 2 cells and reflect on the results.\n"
   ]
  },
  {
   "cell_type": "code",
   "execution_count": 8,
   "id": "c88c4563",
   "metadata": {
    "id": "c88c4563"
   },
   "outputs": [
    {
     "name": "stdout",
     "output_type": "stream",
     "text": [
      "Sample of processed reviews:\n",
      "                                         review_text  \\\n",
      "0  This product is amazing! I've been using it fo...   \n",
      "1  Terrible experience. The product broke after t...   \n",
      "2  Good product but a bit expensive. The quality ...   \n",
      "3  Not worth the money. Save your cash and buy so...   \n",
      "4  Best purchase ever! Highly recommended for any...   \n",
      "\n",
      "                                  processed_stemming  \\\n",
      "0          product amaz ive use month work perfectli   \n",
      "1  terribl experi product broke two day custom se...   \n",
      "2       good product bit expens qualiti great though   \n",
      "3               worth money save cash buy someth els   \n",
      "4  best purchas ever highli recommend anyon look ...   \n",
      "\n",
      "                             processed_lemmatization  \n",
      "0         product amaze ive use month work perfectly  \n",
      "1  terrible experience product break two day cust...  \n",
      "2    good product bit expensive quality great though  \n",
      "3           worth money save cash buy something else  \n",
      "4  best purchase ever highly recommended anyone l...  \n"
     ]
    }
   ],
   "source": [
    "def process_reviews(df, preprocessor, use_stemming=False):\n",
    "    processed_reviews = []\n",
    "\n",
    "    for review in df['review_text']:\n",
    "        results = preprocessor.preprocess_text(review, use_stemming)\n",
    "        processed_reviews.append(' '.join(results['final']))\n",
    "\n",
    "    return processed_reviews\n",
    "\n",
    "# Process with both methods\n",
    "df['processed_stemming'] = process_reviews(df, preprocessor, use_stemming=True)\n",
    "df['processed_lemmatization'] = process_reviews(df, preprocessor, use_stemming=False)\n",
    "\n",
    "# Display results\n",
    "print(\"Sample of processed reviews:\")\n",
    "print(df[['review_text', 'processed_stemming', 'processed_lemmatization']].head())"
   ]
  },
  {
   "cell_type": "markdown",
   "id": "6878e334",
   "metadata": {
    "id": "6878e334"
   },
   "source": [
    "**Analysis of Preprocessing Impact**"
   ]
  },
  {
   "cell_type": "code",
   "execution_count": 9,
   "id": "c51c4a0e",
   "metadata": {
    "id": "c51c4a0e"
   },
   "outputs": [
    {
     "data": {
      "text/plain": [
       "<Figure size 1000x600 with 0 Axes>"
      ]
     },
     "metadata": {},
     "output_type": "display_data"
    },
    {
     "data": {
      "image/png": "[encoded data removed]",
      "text/plain": [
       "<Figure size 640x480 with 1 Axes>"
      ]
     },
     "metadata": {},
     "output_type": "display_data"
    },
    {
     "name": "stdout",
     "output_type": "stream",
     "text": [
      "\n",
      "Preprocessing Statistics:\n",
      "Average original length: 11.80 tokens\n",
      "Average processed length: 7.60 tokens\n",
      "Average reduction: 35.59%\n"
     ]
    }
   ],
   "source": [
    "# Analyze token length reduction\n",
    "df['original_length'] = df['review_text'].str.split().str.len()\n",
    "df['processed_length'] = df['processed_lemmatization'].str.split().str.len()\n",
    "\n",
    "# Visualize length reduction\n",
    "plt.figure(figsize=(10, 6))\n",
    "df[['original_length', 'processed_length']].plot(kind='bar')\n",
    "plt.title('Token Count: Original vs Processed Text')\n",
    "plt.xlabel('Review Index')\n",
    "plt.ylabel('Number of Tokens')\n",
    "plt.legend(['Original', 'Processed'])\n",
    "plt.tight_layout()\n",
    "plt.show()\n",
    "\n",
    "# Basic statistics\n",
    "print(\"\\nPreprocessing Statistics:\")\n",
    "print(f\"Average original length: {df['original_length'].mean():.2f} tokens\")\n",
    "print(f\"Average processed length: {df['processed_length'].mean():.2f} tokens\")\n",
    "print(f\"Average reduction: {((df['original_length'].mean() - df['processed_length'].mean()) / df['original_length'].mean() * 100):.2f}%\")"
   ]
  },
  {
   "cell_type": "markdown",
   "id": "660174a8",
   "metadata": {},
   "source": [
    "From the results of stemming and lemmatization, I find that the lemmatization result may be slightly more \"readable\" than the stemming result. But for both cases, the \"senitimental\" words are preserved, which would be helpful for the analysis.\n",
    "\n",
    "From the bar chart of the original vs the processed text, I find that the processing reduced the text significantly by length, which may preserve the most \"useful\" information, while throw away the less \"useful\" ones."
   ]
  },
  {
   "cell_type": "markdown",
   "id": "7bed1fb5",
   "metadata": {
    "id": "7bed1fb5"
   },
   "source": [
    "**REFLECTION**   \n",
    "Answer the following questions:\n",
    "\n",
    "\n",
    "1.  Analysis of Text Reduction  \n",
    "Examine the bar chart comparing original versus processed text lengths. In our example, we saw an average reduction of token count by approximately 40%. Explain why this reduction occurs and discuss whether this level of reduction might help or hinder sentiment analysis. Consider specific words that were removed and their potential importance to sentiment.\n",
    "2.  Impact of Processing Choices  \n",
    "Compare the results of stemming versus lemmatization in our processed reviews. Looking at specific examples from the output, identify cases where one method might be more appropriate than the other for sentiment analysis. What are the trade-offs between these approaches in terms of preserving meaning while standardizing words?\n",
    "3.  Critical Evaluation of Pipeline  \n",
    "Our preprocessing pipeline includes normalization, tokenization, POS tagging, stopword removal, and stemming/lemmatization. Looking at the final processed texts, identify any sentiment-bearing words that might have been lost or altered during preprocessing. How might you modify the pipeline to better preserve sentiment information while still maintaining the benefits of preprocessing?\n"
   ]
  },
  {
   "cell_type": "markdown",
   "id": "c3ebdde1",
   "metadata": {},
   "source": [
    "1. Q: Analysis of Text Reduction: Examine the bar chart comparing original versus processed text lengths. In our example, we saw an average reduction of token count by approximately 40%. Explain why this reduction occurs and discuss whether this level of reduction might help or hinder sentiment analysis. Consider specific words that were removed and their potential importance to sentiment.\n",
    "\n",
    "**My Ans:** I think it is because we have removed the stopwords and punctuations. This would be helpful since we don't need these stopwords for analysis. It \"contracts\" information and preserves the most useful ones. However, I find that some mistakes happen. For example, The origin text goes \"**not** worth money\", while after removing the stop words, the review becomes \"worth money\", which may hinder our analysis. So we may need to reset the stop words, instead of directly using the NLTK stop words.\n",
    "\n",
    "   \n",
    "\n",
    "2. Q: Impact of Processing Choices : Compare the results of stemming versus lemmatization in our processed reviews. Looking at specific examples from the output, identify cases where one method might be more appropriate than the other for sentiment analysis. What are the trade-offs between these approaches in terms of preserving meaning while standardizing words?\n",
    "\n",
    "**My Ans:** From the above results, I find that lemmatization has a slightly \"better\" result in preserving the textual information than stemming. However, the trade-off is that lemmatization may preserve larger amount of data than stemming, and lemmatization might be less \"normalized\" than stemming.\n",
    "\n",
    "3. Q: Critical Evaluation of Pipeline : Our preprocessing pipeline includes normalization, tokenization, POS tagging, stopword removal, and stemming/lemmatization. Looking at the final processed texts, identify any sentiment-bearing words that might have been lost or altered during preprocessing. How might you modify the pipeline to better preserve sentiment information while still maintaining the benefits of preprocessing?\n",
    "\n",
    " **My Ans:** Firstly, in order not to remove the negation words like \"not\" from the abbreviation, we can expand words like \"don't\" to \"do not\" at first. Secondly, in the example, the punctuations like \"!\" are removed. However, these might also preserves sentiments. Therefore, we can revise the step and preserve some punctuations such like the \"!\"."
   ]
  }
 ],
 "metadata": {
  "colab": {
   "provenance": []
  },
  "kernelspec": {
   "display_name": "Python 3",
   "name": "python3"
  },
  "language_info": {
   "codemirror_mode": {
    "name": "ipython",
    "version": 3
   },
   "file_extension": ".py",
   "mimetype": "text/x-python",
   "name": "python",
   "nbconvert_exporter": "python",
   "pygments_lexer": "ipython3",
   "version": "3.9.6"
  }
 },
 "nbformat": 4,
 "nbformat_minor": 5
}
